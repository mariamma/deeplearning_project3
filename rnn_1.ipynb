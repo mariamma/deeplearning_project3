{
 "cells": [
  {
   "cell_type": "code",
   "execution_count": 2,
   "metadata": {},
   "outputs": [],
   "source": [
    "import numpy as np \n",
    "import pandas as pd \n"
   ]
  },
  {
   "cell_type": "code",
   "execution_count": 3,
   "metadata": {},
   "outputs": [],
   "source": [
    "traindf = pd.read_json(\"~/Downloads/snli_1.0/snli_1.0_train.jsonl\",lines=True)"
   ]
  },
  {
   "cell_type": "code",
   "execution_count": 4,
   "metadata": {},
   "outputs": [
    {
     "data": {
      "text/html": [
       "<div>\n",
       "<style scoped>\n",
       "    .dataframe tbody tr th:only-of-type {\n",
       "        vertical-align: middle;\n",
       "    }\n",
       "\n",
       "    .dataframe tbody tr th {\n",
       "        vertical-align: top;\n",
       "    }\n",
       "\n",
       "    .dataframe thead th {\n",
       "        text-align: right;\n",
       "    }\n",
       "</style>\n",
       "<table border=\"1\" class=\"dataframe\">\n",
       "  <thead>\n",
       "    <tr style=\"text-align: right;\">\n",
       "      <th></th>\n",
       "      <th>annotator_labels</th>\n",
       "      <th>captionID</th>\n",
       "      <th>gold_label</th>\n",
       "      <th>pairID</th>\n",
       "      <th>sentence1</th>\n",
       "      <th>sentence1_binary_parse</th>\n",
       "      <th>sentence1_parse</th>\n",
       "      <th>sentence2</th>\n",
       "      <th>sentence2_binary_parse</th>\n",
       "      <th>sentence2_parse</th>\n",
       "    </tr>\n",
       "  </thead>\n",
       "  <tbody>\n",
       "    <tr>\n",
       "      <th>0</th>\n",
       "      <td>[neutral]</td>\n",
       "      <td>3416050480.jpg#4</td>\n",
       "      <td>neutral</td>\n",
       "      <td>3416050480.jpg#4r1n</td>\n",
       "      <td>A person on a horse jumps over a broken down a...</td>\n",
       "      <td>( ( ( A person ) ( on ( a horse ) ) ) ( ( jump...</td>\n",
       "      <td>(ROOT (S (NP (NP (DT A) (NN person)) (PP (IN o...</td>\n",
       "      <td>A person is training his horse for a competition.</td>\n",
       "      <td>( ( A person ) ( ( is ( ( training ( his horse...</td>\n",
       "      <td>(ROOT (S (NP (DT A) (NN person)) (VP (VBZ is) ...</td>\n",
       "    </tr>\n",
       "    <tr>\n",
       "      <th>1</th>\n",
       "      <td>[contradiction]</td>\n",
       "      <td>3416050480.jpg#4</td>\n",
       "      <td>contradiction</td>\n",
       "      <td>3416050480.jpg#4r1c</td>\n",
       "      <td>A person on a horse jumps over a broken down a...</td>\n",
       "      <td>( ( ( A person ) ( on ( a horse ) ) ) ( ( jump...</td>\n",
       "      <td>(ROOT (S (NP (NP (DT A) (NN person)) (PP (IN o...</td>\n",
       "      <td>A person is at a diner, ordering an omelette.</td>\n",
       "      <td>( ( A person ) ( ( ( ( is ( at ( a diner ) ) )...</td>\n",
       "      <td>(ROOT (S (NP (DT A) (NN person)) (VP (VBZ is) ...</td>\n",
       "    </tr>\n",
       "    <tr>\n",
       "      <th>2</th>\n",
       "      <td>[entailment]</td>\n",
       "      <td>3416050480.jpg#4</td>\n",
       "      <td>entailment</td>\n",
       "      <td>3416050480.jpg#4r1e</td>\n",
       "      <td>A person on a horse jumps over a broken down a...</td>\n",
       "      <td>( ( ( A person ) ( on ( a horse ) ) ) ( ( jump...</td>\n",
       "      <td>(ROOT (S (NP (NP (DT A) (NN person)) (PP (IN o...</td>\n",
       "      <td>A person is outdoors, on a horse.</td>\n",
       "      <td>( ( A person ) ( ( ( ( is outdoors ) , ) ( on ...</td>\n",
       "      <td>(ROOT (S (NP (DT A) (NN person)) (VP (VBZ is) ...</td>\n",
       "    </tr>\n",
       "    <tr>\n",
       "      <th>3</th>\n",
       "      <td>[neutral]</td>\n",
       "      <td>2267923837.jpg#2</td>\n",
       "      <td>neutral</td>\n",
       "      <td>2267923837.jpg#2r1n</td>\n",
       "      <td>Children smiling and waving at camera</td>\n",
       "      <td>( Children ( ( ( smiling and ) waving ) ( at c...</td>\n",
       "      <td>(ROOT (NP (S (NP (NNP Children)) (VP (VBG smil...</td>\n",
       "      <td>They are smiling at their parents</td>\n",
       "      <td>( They ( are ( smiling ( at ( their parents ) ...</td>\n",
       "      <td>(ROOT (S (NP (PRP They)) (VP (VBP are) (VP (VB...</td>\n",
       "    </tr>\n",
       "    <tr>\n",
       "      <th>4</th>\n",
       "      <td>[entailment]</td>\n",
       "      <td>2267923837.jpg#2</td>\n",
       "      <td>entailment</td>\n",
       "      <td>2267923837.jpg#2r1e</td>\n",
       "      <td>Children smiling and waving at camera</td>\n",
       "      <td>( Children ( ( ( smiling and ) waving ) ( at c...</td>\n",
       "      <td>(ROOT (NP (S (NP (NNP Children)) (VP (VBG smil...</td>\n",
       "      <td>There are children present</td>\n",
       "      <td>( There ( ( are children ) present ) )</td>\n",
       "      <td>(ROOT (S (NP (EX There)) (VP (VBP are) (NP (NN...</td>\n",
       "    </tr>\n",
       "  </tbody>\n",
       "</table>\n",
       "</div>"
      ],
      "text/plain": [
       "  annotator_labels         captionID     gold_label               pairID  \\\n",
       "0        [neutral]  3416050480.jpg#4        neutral  3416050480.jpg#4r1n   \n",
       "1  [contradiction]  3416050480.jpg#4  contradiction  3416050480.jpg#4r1c   \n",
       "2     [entailment]  3416050480.jpg#4     entailment  3416050480.jpg#4r1e   \n",
       "3        [neutral]  2267923837.jpg#2        neutral  2267923837.jpg#2r1n   \n",
       "4     [entailment]  2267923837.jpg#2     entailment  2267923837.jpg#2r1e   \n",
       "\n",
       "                                           sentence1  \\\n",
       "0  A person on a horse jumps over a broken down a...   \n",
       "1  A person on a horse jumps over a broken down a...   \n",
       "2  A person on a horse jumps over a broken down a...   \n",
       "3              Children smiling and waving at camera   \n",
       "4              Children smiling and waving at camera   \n",
       "\n",
       "                              sentence1_binary_parse  \\\n",
       "0  ( ( ( A person ) ( on ( a horse ) ) ) ( ( jump...   \n",
       "1  ( ( ( A person ) ( on ( a horse ) ) ) ( ( jump...   \n",
       "2  ( ( ( A person ) ( on ( a horse ) ) ) ( ( jump...   \n",
       "3  ( Children ( ( ( smiling and ) waving ) ( at c...   \n",
       "4  ( Children ( ( ( smiling and ) waving ) ( at c...   \n",
       "\n",
       "                                     sentence1_parse  \\\n",
       "0  (ROOT (S (NP (NP (DT A) (NN person)) (PP (IN o...   \n",
       "1  (ROOT (S (NP (NP (DT A) (NN person)) (PP (IN o...   \n",
       "2  (ROOT (S (NP (NP (DT A) (NN person)) (PP (IN o...   \n",
       "3  (ROOT (NP (S (NP (NNP Children)) (VP (VBG smil...   \n",
       "4  (ROOT (NP (S (NP (NNP Children)) (VP (VBG smil...   \n",
       "\n",
       "                                           sentence2  \\\n",
       "0  A person is training his horse for a competition.   \n",
       "1      A person is at a diner, ordering an omelette.   \n",
       "2                  A person is outdoors, on a horse.   \n",
       "3                  They are smiling at their parents   \n",
       "4                         There are children present   \n",
       "\n",
       "                              sentence2_binary_parse  \\\n",
       "0  ( ( A person ) ( ( is ( ( training ( his horse...   \n",
       "1  ( ( A person ) ( ( ( ( is ( at ( a diner ) ) )...   \n",
       "2  ( ( A person ) ( ( ( ( is outdoors ) , ) ( on ...   \n",
       "3  ( They ( are ( smiling ( at ( their parents ) ...   \n",
       "4             ( There ( ( are children ) present ) )   \n",
       "\n",
       "                                     sentence2_parse  \n",
       "0  (ROOT (S (NP (DT A) (NN person)) (VP (VBZ is) ...  \n",
       "1  (ROOT (S (NP (DT A) (NN person)) (VP (VBZ is) ...  \n",
       "2  (ROOT (S (NP (DT A) (NN person)) (VP (VBZ is) ...  \n",
       "3  (ROOT (S (NP (PRP They)) (VP (VBP are) (VP (VB...  \n",
       "4  (ROOT (S (NP (EX There)) (VP (VBP are) (NP (NN...  "
      ]
     },
     "execution_count": 4,
     "metadata": {},
     "output_type": "execute_result"
    }
   ],
   "source": [
    "traindf.head()"
   ]
  },
  {
   "cell_type": "code",
   "execution_count": 5,
   "metadata": {},
   "outputs": [
    {
     "data": {
      "text/html": [
       "<div>\n",
       "<style scoped>\n",
       "    .dataframe tbody tr th:only-of-type {\n",
       "        vertical-align: middle;\n",
       "    }\n",
       "\n",
       "    .dataframe tbody tr th {\n",
       "        vertical-align: top;\n",
       "    }\n",
       "\n",
       "    .dataframe thead th {\n",
       "        text-align: right;\n",
       "    }\n",
       "</style>\n",
       "<table border=\"1\" class=\"dataframe\">\n",
       "  <thead>\n",
       "    <tr style=\"text-align: right;\">\n",
       "      <th></th>\n",
       "      <th>annotator_labels</th>\n",
       "      <th>captionID</th>\n",
       "      <th>gold_label</th>\n",
       "      <th>pairID</th>\n",
       "      <th>sentence1</th>\n",
       "      <th>sentence1_binary_parse</th>\n",
       "      <th>sentence1_parse</th>\n",
       "      <th>sentence2</th>\n",
       "      <th>sentence2_binary_parse</th>\n",
       "      <th>sentence2_parse</th>\n",
       "    </tr>\n",
       "  </thead>\n",
       "  <tbody>\n",
       "    <tr>\n",
       "      <th>0</th>\n",
       "      <td>[neutral, contradiction, contradiction, neutra...</td>\n",
       "      <td>2677109430.jpg#1</td>\n",
       "      <td>neutral</td>\n",
       "      <td>2677109430.jpg#1r1n</td>\n",
       "      <td>This church choir sings to the masses as they ...</td>\n",
       "      <td>( ( This ( church choir ) ) ( ( ( sings ( to (...</td>\n",
       "      <td>(ROOT (S (NP (DT This) (NN church) (NN choir))...</td>\n",
       "      <td>The church has cracks in the ceiling.</td>\n",
       "      <td>( ( The church ) ( ( has ( cracks ( in ( the c...</td>\n",
       "      <td>(ROOT (S (NP (DT The) (NN church)) (VP (VBZ ha...</td>\n",
       "    </tr>\n",
       "    <tr>\n",
       "      <th>1</th>\n",
       "      <td>[entailment, entailment, entailment, neutral, ...</td>\n",
       "      <td>2677109430.jpg#1</td>\n",
       "      <td>entailment</td>\n",
       "      <td>2677109430.jpg#1r1e</td>\n",
       "      <td>This church choir sings to the masses as they ...</td>\n",
       "      <td>( ( This ( church choir ) ) ( ( ( sings ( to (...</td>\n",
       "      <td>(ROOT (S (NP (DT This) (NN church) (NN choir))...</td>\n",
       "      <td>The church is filled with song.</td>\n",
       "      <td>( ( The church ) ( ( is ( filled ( with song )...</td>\n",
       "      <td>(ROOT (S (NP (DT The) (NN church)) (VP (VBZ is...</td>\n",
       "    </tr>\n",
       "    <tr>\n",
       "      <th>2</th>\n",
       "      <td>[contradiction, contradiction, contradiction, ...</td>\n",
       "      <td>2677109430.jpg#1</td>\n",
       "      <td>contradiction</td>\n",
       "      <td>2677109430.jpg#1r1c</td>\n",
       "      <td>This church choir sings to the masses as they ...</td>\n",
       "      <td>( ( This ( church choir ) ) ( ( ( sings ( to (...</td>\n",
       "      <td>(ROOT (S (NP (DT This) (NN church) (NN choir))...</td>\n",
       "      <td>A choir singing at a baseball game.</td>\n",
       "      <td>( ( ( A choir ) ( singing ( at ( a ( baseball ...</td>\n",
       "      <td>(ROOT (NP (NP (DT A) (NN choir)) (VP (VBG sing...</td>\n",
       "    </tr>\n",
       "    <tr>\n",
       "      <th>3</th>\n",
       "      <td>[neutral, neutral, neutral, neutral, neutral]</td>\n",
       "      <td>6160193920.jpg#4</td>\n",
       "      <td>neutral</td>\n",
       "      <td>6160193920.jpg#4r1n</td>\n",
       "      <td>A woman with a green headscarf, blue shirt and...</td>\n",
       "      <td>( ( ( A woman ) ( with ( ( ( ( ( a ( green hea...</td>\n",
       "      <td>(ROOT (NP (NP (DT A) (NN woman)) (PP (IN with)...</td>\n",
       "      <td>The woman is young.</td>\n",
       "      <td>( ( The woman ) ( ( is young ) . ) )</td>\n",
       "      <td>(ROOT (S (NP (DT The) (NN woman)) (VP (VBZ is)...</td>\n",
       "    </tr>\n",
       "    <tr>\n",
       "      <th>4</th>\n",
       "      <td>[entailment, entailment, contradiction, entail...</td>\n",
       "      <td>6160193920.jpg#4</td>\n",
       "      <td>entailment</td>\n",
       "      <td>6160193920.jpg#4r1e</td>\n",
       "      <td>A woman with a green headscarf, blue shirt and...</td>\n",
       "      <td>( ( ( A woman ) ( with ( ( ( ( ( a ( green hea...</td>\n",
       "      <td>(ROOT (NP (NP (DT A) (NN woman)) (PP (IN with)...</td>\n",
       "      <td>The woman is very happy.</td>\n",
       "      <td>( ( The woman ) ( ( is ( very happy ) ) . ) )</td>\n",
       "      <td>(ROOT (S (NP (DT The) (NN woman)) (VP (VBZ is)...</td>\n",
       "    </tr>\n",
       "  </tbody>\n",
       "</table>\n",
       "</div>"
      ],
      "text/plain": [
       "                                    annotator_labels         captionID  \\\n",
       "0  [neutral, contradiction, contradiction, neutra...  2677109430.jpg#1   \n",
       "1  [entailment, entailment, entailment, neutral, ...  2677109430.jpg#1   \n",
       "2  [contradiction, contradiction, contradiction, ...  2677109430.jpg#1   \n",
       "3      [neutral, neutral, neutral, neutral, neutral]  6160193920.jpg#4   \n",
       "4  [entailment, entailment, contradiction, entail...  6160193920.jpg#4   \n",
       "\n",
       "      gold_label               pairID  \\\n",
       "0        neutral  2677109430.jpg#1r1n   \n",
       "1     entailment  2677109430.jpg#1r1e   \n",
       "2  contradiction  2677109430.jpg#1r1c   \n",
       "3        neutral  6160193920.jpg#4r1n   \n",
       "4     entailment  6160193920.jpg#4r1e   \n",
       "\n",
       "                                           sentence1  \\\n",
       "0  This church choir sings to the masses as they ...   \n",
       "1  This church choir sings to the masses as they ...   \n",
       "2  This church choir sings to the masses as they ...   \n",
       "3  A woman with a green headscarf, blue shirt and...   \n",
       "4  A woman with a green headscarf, blue shirt and...   \n",
       "\n",
       "                              sentence1_binary_parse  \\\n",
       "0  ( ( This ( church choir ) ) ( ( ( sings ( to (...   \n",
       "1  ( ( This ( church choir ) ) ( ( ( sings ( to (...   \n",
       "2  ( ( This ( church choir ) ) ( ( ( sings ( to (...   \n",
       "3  ( ( ( A woman ) ( with ( ( ( ( ( a ( green hea...   \n",
       "4  ( ( ( A woman ) ( with ( ( ( ( ( a ( green hea...   \n",
       "\n",
       "                                     sentence1_parse  \\\n",
       "0  (ROOT (S (NP (DT This) (NN church) (NN choir))...   \n",
       "1  (ROOT (S (NP (DT This) (NN church) (NN choir))...   \n",
       "2  (ROOT (S (NP (DT This) (NN church) (NN choir))...   \n",
       "3  (ROOT (NP (NP (DT A) (NN woman)) (PP (IN with)...   \n",
       "4  (ROOT (NP (NP (DT A) (NN woman)) (PP (IN with)...   \n",
       "\n",
       "                               sentence2  \\\n",
       "0  The church has cracks in the ceiling.   \n",
       "1        The church is filled with song.   \n",
       "2    A choir singing at a baseball game.   \n",
       "3                    The woman is young.   \n",
       "4               The woman is very happy.   \n",
       "\n",
       "                              sentence2_binary_parse  \\\n",
       "0  ( ( The church ) ( ( has ( cracks ( in ( the c...   \n",
       "1  ( ( The church ) ( ( is ( filled ( with song )...   \n",
       "2  ( ( ( A choir ) ( singing ( at ( a ( baseball ...   \n",
       "3               ( ( The woman ) ( ( is young ) . ) )   \n",
       "4      ( ( The woman ) ( ( is ( very happy ) ) . ) )   \n",
       "\n",
       "                                     sentence2_parse  \n",
       "0  (ROOT (S (NP (DT The) (NN church)) (VP (VBZ ha...  \n",
       "1  (ROOT (S (NP (DT The) (NN church)) (VP (VBZ is...  \n",
       "2  (ROOT (NP (NP (DT A) (NN choir)) (VP (VBG sing...  \n",
       "3  (ROOT (S (NP (DT The) (NN woman)) (VP (VBZ is)...  \n",
       "4  (ROOT (S (NP (DT The) (NN woman)) (VP (VBZ is)...  "
      ]
     },
     "execution_count": 5,
     "metadata": {},
     "output_type": "execute_result"
    }
   ],
   "source": [
    "testdf = pd.read_json(\"~/Downloads/snli_1.0/snli_1.0_test.jsonl\",lines=True)\n",
    "testdf.head()"
   ]
  },
  {
   "cell_type": "code",
   "execution_count": 6,
   "metadata": {},
   "outputs": [
    {
     "data": {
      "text/plain": [
       "annotator_labels          0\n",
       "captionID                 0\n",
       "gold_label                0\n",
       "pairID                    0\n",
       "sentence1                 0\n",
       "sentence1_binary_parse    0\n",
       "sentence1_parse           0\n",
       "sentence2                 0\n",
       "sentence2_binary_parse    0\n",
       "sentence2_parse           0\n",
       "dtype: int64"
      ]
     },
     "execution_count": 6,
     "metadata": {},
     "output_type": "execute_result"
    }
   ],
   "source": [
    "traindf.isna().sum()"
   ]
  },
  {
   "cell_type": "code",
   "execution_count": 7,
   "metadata": {},
   "outputs": [
    {
     "data": {
      "text/plain": [
       "annotator_labels          0\n",
       "captionID                 0\n",
       "gold_label                0\n",
       "pairID                    0\n",
       "sentence1                 0\n",
       "sentence1_binary_parse    0\n",
       "sentence1_parse           0\n",
       "sentence2                 0\n",
       "sentence2_binary_parse    0\n",
       "sentence2_parse           0\n",
       "dtype: int64"
      ]
     },
     "execution_count": 7,
     "metadata": {},
     "output_type": "execute_result"
    }
   ],
   "source": [
    "testdf.isna().sum()"
   ]
  },
  {
   "cell_type": "code",
   "execution_count": 8,
   "metadata": {},
   "outputs": [
    {
     "data": {
      "text/plain": [
       "402"
      ]
     },
     "execution_count": 8,
     "metadata": {},
     "output_type": "execute_result"
    }
   ],
   "source": [
    "traindf.sentence1.str.len().max()"
   ]
  },
  {
   "cell_type": "code",
   "execution_count": 9,
   "metadata": {},
   "outputs": [
    {
     "data": {
      "text/plain": [
       "402"
      ]
     },
     "execution_count": 9,
     "metadata": {},
     "output_type": "execute_result"
    }
   ],
   "source": [
    "traindf.sentence1.map(lambda x: len(x)).max()"
   ]
  },
  {
   "cell_type": "code",
   "execution_count": 10,
   "metadata": {},
   "outputs": [
    {
     "data": {
      "text/plain": [
       "295"
      ]
     },
     "execution_count": 10,
     "metadata": {},
     "output_type": "execute_result"
    }
   ],
   "source": [
    "traindf.sentence2.map(lambda x: len(x)).max()"
   ]
  },
  {
   "cell_type": "code",
   "execution_count": 11,
   "metadata": {},
   "outputs": [
    {
     "data": {
      "text/plain": [
       "265"
      ]
     },
     "execution_count": 11,
     "metadata": {},
     "output_type": "execute_result"
    }
   ],
   "source": [
    "testdf.sentence1.map(lambda x: len(x)).max()"
   ]
  },
  {
   "cell_type": "code",
   "execution_count": 12,
   "metadata": {},
   "outputs": [
    {
     "data": {
      "text/plain": [
       "159"
      ]
     },
     "execution_count": 12,
     "metadata": {},
     "output_type": "execute_result"
    }
   ],
   "source": [
    "testdf.sentence2.map(lambda x: len(x)).max()"
   ]
  },
  {
   "cell_type": "code",
   "execution_count": 13,
   "metadata": {},
   "outputs": [],
   "source": [
    "from gensim.parsing.preprocessing import preprocess_string, strip_tags,strip_numeric, strip_punctuation, strip_multiple_whitespaces, remove_stopwords, stem_text\n",
    "custom_filters = [strip_tags,strip_punctuation,strip_numeric, strip_multiple_whitespaces, remove_stopwords, stem_text]\n",
    "def tokenize_sentence(X):\n",
    "    res =  preprocess_string(X, custom_filters)\n",
    "    return ' '.join(res)"
   ]
  },
  {
   "cell_type": "code",
   "execution_count": 14,
   "metadata": {},
   "outputs": [
    {
     "data": {
      "text/plain": [
       "'a person hors jump broken airplan'"
      ]
     },
     "execution_count": 14,
     "metadata": {},
     "output_type": "execute_result"
    }
   ],
   "source": [
    "sentence_new = tokenize_sentence(\"A person on a horse jumps over a broken down airplane.\")\n",
    "sentence_new"
   ]
  },
  {
   "cell_type": "code",
   "execution_count": 15,
   "metadata": {},
   "outputs": [],
   "source": [
    "traindf['sent1_process'] = traindf.apply(lambda x: tokenize_sentence(x['sentence1']), axis=1)\n",
    "traindf['sent2_process'] = traindf.apply(lambda x: tokenize_sentence(x['sentence2']), axis=1)"
   ]
  },
  {
   "cell_type": "code",
   "execution_count": 16,
   "metadata": {},
   "outputs": [
    {
     "data": {
      "text/html": [
       "<div>\n",
       "<style scoped>\n",
       "    .dataframe tbody tr th:only-of-type {\n",
       "        vertical-align: middle;\n",
       "    }\n",
       "\n",
       "    .dataframe tbody tr th {\n",
       "        vertical-align: top;\n",
       "    }\n",
       "\n",
       "    .dataframe thead th {\n",
       "        text-align: right;\n",
       "    }\n",
       "</style>\n",
       "<table border=\"1\" class=\"dataframe\">\n",
       "  <thead>\n",
       "    <tr style=\"text-align: right;\">\n",
       "      <th></th>\n",
       "      <th>annotator_labels</th>\n",
       "      <th>captionID</th>\n",
       "      <th>gold_label</th>\n",
       "      <th>pairID</th>\n",
       "      <th>sentence1</th>\n",
       "      <th>sentence1_binary_parse</th>\n",
       "      <th>sentence1_parse</th>\n",
       "      <th>sentence2</th>\n",
       "      <th>sentence2_binary_parse</th>\n",
       "      <th>sentence2_parse</th>\n",
       "      <th>sent1_process</th>\n",
       "      <th>sent2_process</th>\n",
       "    </tr>\n",
       "  </thead>\n",
       "  <tbody>\n",
       "    <tr>\n",
       "      <th>0</th>\n",
       "      <td>[neutral]</td>\n",
       "      <td>3416050480.jpg#4</td>\n",
       "      <td>neutral</td>\n",
       "      <td>3416050480.jpg#4r1n</td>\n",
       "      <td>A person on a horse jumps over a broken down a...</td>\n",
       "      <td>( ( ( A person ) ( on ( a horse ) ) ) ( ( jump...</td>\n",
       "      <td>(ROOT (S (NP (NP (DT A) (NN person)) (PP (IN o...</td>\n",
       "      <td>A person is training his horse for a competition.</td>\n",
       "      <td>( ( A person ) ( ( is ( ( training ( his horse...</td>\n",
       "      <td>(ROOT (S (NP (DT A) (NN person)) (VP (VBZ is) ...</td>\n",
       "      <td>a person hors jump broken airplan</td>\n",
       "      <td>a person train hors competit</td>\n",
       "    </tr>\n",
       "    <tr>\n",
       "      <th>1</th>\n",
       "      <td>[contradiction]</td>\n",
       "      <td>3416050480.jpg#4</td>\n",
       "      <td>contradiction</td>\n",
       "      <td>3416050480.jpg#4r1c</td>\n",
       "      <td>A person on a horse jumps over a broken down a...</td>\n",
       "      <td>( ( ( A person ) ( on ( a horse ) ) ) ( ( jump...</td>\n",
       "      <td>(ROOT (S (NP (NP (DT A) (NN person)) (PP (IN o...</td>\n",
       "      <td>A person is at a diner, ordering an omelette.</td>\n",
       "      <td>( ( A person ) ( ( ( ( is ( at ( a diner ) ) )...</td>\n",
       "      <td>(ROOT (S (NP (DT A) (NN person)) (VP (VBZ is) ...</td>\n",
       "      <td>a person hors jump broken airplan</td>\n",
       "      <td>a person diner order omelett</td>\n",
       "    </tr>\n",
       "    <tr>\n",
       "      <th>2</th>\n",
       "      <td>[entailment]</td>\n",
       "      <td>3416050480.jpg#4</td>\n",
       "      <td>entailment</td>\n",
       "      <td>3416050480.jpg#4r1e</td>\n",
       "      <td>A person on a horse jumps over a broken down a...</td>\n",
       "      <td>( ( ( A person ) ( on ( a horse ) ) ) ( ( jump...</td>\n",
       "      <td>(ROOT (S (NP (NP (DT A) (NN person)) (PP (IN o...</td>\n",
       "      <td>A person is outdoors, on a horse.</td>\n",
       "      <td>( ( A person ) ( ( ( ( is outdoors ) , ) ( on ...</td>\n",
       "      <td>(ROOT (S (NP (DT A) (NN person)) (VP (VBZ is) ...</td>\n",
       "      <td>a person hors jump broken airplan</td>\n",
       "      <td>a person outdoor hors</td>\n",
       "    </tr>\n",
       "    <tr>\n",
       "      <th>3</th>\n",
       "      <td>[neutral]</td>\n",
       "      <td>2267923837.jpg#2</td>\n",
       "      <td>neutral</td>\n",
       "      <td>2267923837.jpg#2r1n</td>\n",
       "      <td>Children smiling and waving at camera</td>\n",
       "      <td>( Children ( ( ( smiling and ) waving ) ( at c...</td>\n",
       "      <td>(ROOT (NP (S (NP (NNP Children)) (VP (VBG smil...</td>\n",
       "      <td>They are smiling at their parents</td>\n",
       "      <td>( They ( are ( smiling ( at ( their parents ) ...</td>\n",
       "      <td>(ROOT (S (NP (PRP They)) (VP (VBP are) (VP (VB...</td>\n",
       "      <td>children smile wave camera</td>\n",
       "      <td>thei smile parent</td>\n",
       "    </tr>\n",
       "    <tr>\n",
       "      <th>4</th>\n",
       "      <td>[entailment]</td>\n",
       "      <td>2267923837.jpg#2</td>\n",
       "      <td>entailment</td>\n",
       "      <td>2267923837.jpg#2r1e</td>\n",
       "      <td>Children smiling and waving at camera</td>\n",
       "      <td>( Children ( ( ( smiling and ) waving ) ( at c...</td>\n",
       "      <td>(ROOT (NP (S (NP (NNP Children)) (VP (VBG smil...</td>\n",
       "      <td>There are children present</td>\n",
       "      <td>( There ( ( are children ) present ) )</td>\n",
       "      <td>(ROOT (S (NP (EX There)) (VP (VBP are) (NP (NN...</td>\n",
       "      <td>children smile wave camera</td>\n",
       "      <td>there children present</td>\n",
       "    </tr>\n",
       "  </tbody>\n",
       "</table>\n",
       "</div>"
      ],
      "text/plain": [
       "  annotator_labels         captionID     gold_label               pairID  \\\n",
       "0        [neutral]  3416050480.jpg#4        neutral  3416050480.jpg#4r1n   \n",
       "1  [contradiction]  3416050480.jpg#4  contradiction  3416050480.jpg#4r1c   \n",
       "2     [entailment]  3416050480.jpg#4     entailment  3416050480.jpg#4r1e   \n",
       "3        [neutral]  2267923837.jpg#2        neutral  2267923837.jpg#2r1n   \n",
       "4     [entailment]  2267923837.jpg#2     entailment  2267923837.jpg#2r1e   \n",
       "\n",
       "                                           sentence1  \\\n",
       "0  A person on a horse jumps over a broken down a...   \n",
       "1  A person on a horse jumps over a broken down a...   \n",
       "2  A person on a horse jumps over a broken down a...   \n",
       "3              Children smiling and waving at camera   \n",
       "4              Children smiling and waving at camera   \n",
       "\n",
       "                              sentence1_binary_parse  \\\n",
       "0  ( ( ( A person ) ( on ( a horse ) ) ) ( ( jump...   \n",
       "1  ( ( ( A person ) ( on ( a horse ) ) ) ( ( jump...   \n",
       "2  ( ( ( A person ) ( on ( a horse ) ) ) ( ( jump...   \n",
       "3  ( Children ( ( ( smiling and ) waving ) ( at c...   \n",
       "4  ( Children ( ( ( smiling and ) waving ) ( at c...   \n",
       "\n",
       "                                     sentence1_parse  \\\n",
       "0  (ROOT (S (NP (NP (DT A) (NN person)) (PP (IN o...   \n",
       "1  (ROOT (S (NP (NP (DT A) (NN person)) (PP (IN o...   \n",
       "2  (ROOT (S (NP (NP (DT A) (NN person)) (PP (IN o...   \n",
       "3  (ROOT (NP (S (NP (NNP Children)) (VP (VBG smil...   \n",
       "4  (ROOT (NP (S (NP (NNP Children)) (VP (VBG smil...   \n",
       "\n",
       "                                           sentence2  \\\n",
       "0  A person is training his horse for a competition.   \n",
       "1      A person is at a diner, ordering an omelette.   \n",
       "2                  A person is outdoors, on a horse.   \n",
       "3                  They are smiling at their parents   \n",
       "4                         There are children present   \n",
       "\n",
       "                              sentence2_binary_parse  \\\n",
       "0  ( ( A person ) ( ( is ( ( training ( his horse...   \n",
       "1  ( ( A person ) ( ( ( ( is ( at ( a diner ) ) )...   \n",
       "2  ( ( A person ) ( ( ( ( is outdoors ) , ) ( on ...   \n",
       "3  ( They ( are ( smiling ( at ( their parents ) ...   \n",
       "4             ( There ( ( are children ) present ) )   \n",
       "\n",
       "                                     sentence2_parse  \\\n",
       "0  (ROOT (S (NP (DT A) (NN person)) (VP (VBZ is) ...   \n",
       "1  (ROOT (S (NP (DT A) (NN person)) (VP (VBZ is) ...   \n",
       "2  (ROOT (S (NP (DT A) (NN person)) (VP (VBZ is) ...   \n",
       "3  (ROOT (S (NP (PRP They)) (VP (VBP are) (VP (VB...   \n",
       "4  (ROOT (S (NP (EX There)) (VP (VBP are) (NP (NN...   \n",
       "\n",
       "                       sent1_process                 sent2_process  \n",
       "0  a person hors jump broken airplan  a person train hors competit  \n",
       "1  a person hors jump broken airplan  a person diner order omelett  \n",
       "2  a person hors jump broken airplan         a person outdoor hors  \n",
       "3         children smile wave camera             thei smile parent  \n",
       "4         children smile wave camera        there children present  "
      ]
     },
     "execution_count": 16,
     "metadata": {},
     "output_type": "execute_result"
    }
   ],
   "source": [
    "traindf.head()"
   ]
  },
  {
   "cell_type": "code",
   "execution_count": 17,
   "metadata": {},
   "outputs": [],
   "source": [
    "testdf['sent1_process'] = testdf.apply(lambda x: tokenize_sentence(x['sentence1']), axis=1)\n",
    "testdf['sent2_process'] = testdf.apply(lambda x: tokenize_sentence(x['sentence2']), axis=1)"
   ]
  },
  {
   "cell_type": "code",
   "execution_count": 18,
   "metadata": {},
   "outputs": [
    {
     "data": {
      "text/html": [
       "<div>\n",
       "<style scoped>\n",
       "    .dataframe tbody tr th:only-of-type {\n",
       "        vertical-align: middle;\n",
       "    }\n",
       "\n",
       "    .dataframe tbody tr th {\n",
       "        vertical-align: top;\n",
       "    }\n",
       "\n",
       "    .dataframe thead th {\n",
       "        text-align: right;\n",
       "    }\n",
       "</style>\n",
       "<table border=\"1\" class=\"dataframe\">\n",
       "  <thead>\n",
       "    <tr style=\"text-align: right;\">\n",
       "      <th></th>\n",
       "      <th>annotator_labels</th>\n",
       "      <th>captionID</th>\n",
       "      <th>gold_label</th>\n",
       "      <th>pairID</th>\n",
       "      <th>sentence1</th>\n",
       "      <th>sentence1_binary_parse</th>\n",
       "      <th>sentence1_parse</th>\n",
       "      <th>sentence2</th>\n",
       "      <th>sentence2_binary_parse</th>\n",
       "      <th>sentence2_parse</th>\n",
       "      <th>sent1_process</th>\n",
       "      <th>sent2_process</th>\n",
       "    </tr>\n",
       "  </thead>\n",
       "  <tbody>\n",
       "    <tr>\n",
       "      <th>0</th>\n",
       "      <td>[neutral, contradiction, contradiction, neutra...</td>\n",
       "      <td>2677109430.jpg#1</td>\n",
       "      <td>neutral</td>\n",
       "      <td>2677109430.jpg#1r1n</td>\n",
       "      <td>This church choir sings to the masses as they ...</td>\n",
       "      <td>( ( This ( church choir ) ) ( ( ( sings ( to (...</td>\n",
       "      <td>(ROOT (S (NP (DT This) (NN church) (NN choir))...</td>\n",
       "      <td>The church has cracks in the ceiling.</td>\n",
       "      <td>( ( The church ) ( ( has ( cracks ( in ( the c...</td>\n",
       "      <td>(ROOT (S (NP (DT The) (NN church)) (VP (VBZ ha...</td>\n",
       "      <td>thi church choir sing mass sing joyou song boo...</td>\n",
       "      <td>the church crack ceil</td>\n",
       "    </tr>\n",
       "    <tr>\n",
       "      <th>1</th>\n",
       "      <td>[entailment, entailment, entailment, neutral, ...</td>\n",
       "      <td>2677109430.jpg#1</td>\n",
       "      <td>entailment</td>\n",
       "      <td>2677109430.jpg#1r1e</td>\n",
       "      <td>This church choir sings to the masses as they ...</td>\n",
       "      <td>( ( This ( church choir ) ) ( ( ( sings ( to (...</td>\n",
       "      <td>(ROOT (S (NP (DT This) (NN church) (NN choir))...</td>\n",
       "      <td>The church is filled with song.</td>\n",
       "      <td>( ( The church ) ( ( is ( filled ( with song )...</td>\n",
       "      <td>(ROOT (S (NP (DT The) (NN church)) (VP (VBZ is...</td>\n",
       "      <td>thi church choir sing mass sing joyou song boo...</td>\n",
       "      <td>the church fill song</td>\n",
       "    </tr>\n",
       "    <tr>\n",
       "      <th>2</th>\n",
       "      <td>[contradiction, contradiction, contradiction, ...</td>\n",
       "      <td>2677109430.jpg#1</td>\n",
       "      <td>contradiction</td>\n",
       "      <td>2677109430.jpg#1r1c</td>\n",
       "      <td>This church choir sings to the masses as they ...</td>\n",
       "      <td>( ( This ( church choir ) ) ( ( ( sings ( to (...</td>\n",
       "      <td>(ROOT (S (NP (DT This) (NN church) (NN choir))...</td>\n",
       "      <td>A choir singing at a baseball game.</td>\n",
       "      <td>( ( ( A choir ) ( singing ( at ( a ( baseball ...</td>\n",
       "      <td>(ROOT (NP (NP (DT A) (NN choir)) (VP (VBG sing...</td>\n",
       "      <td>thi church choir sing mass sing joyou song boo...</td>\n",
       "      <td>a choir sing basebal game</td>\n",
       "    </tr>\n",
       "    <tr>\n",
       "      <th>3</th>\n",
       "      <td>[neutral, neutral, neutral, neutral, neutral]</td>\n",
       "      <td>6160193920.jpg#4</td>\n",
       "      <td>neutral</td>\n",
       "      <td>6160193920.jpg#4r1n</td>\n",
       "      <td>A woman with a green headscarf, blue shirt and...</td>\n",
       "      <td>( ( ( A woman ) ( with ( ( ( ( ( a ( green hea...</td>\n",
       "      <td>(ROOT (NP (NP (DT A) (NN woman)) (PP (IN with)...</td>\n",
       "      <td>The woman is young.</td>\n",
       "      <td>( ( The woman ) ( ( is young ) . ) )</td>\n",
       "      <td>(ROOT (S (NP (DT The) (NN woman)) (VP (VBZ is)...</td>\n",
       "      <td>a woman green headscarf blue shirt big grin</td>\n",
       "      <td>the woman young</td>\n",
       "    </tr>\n",
       "    <tr>\n",
       "      <th>4</th>\n",
       "      <td>[entailment, entailment, contradiction, entail...</td>\n",
       "      <td>6160193920.jpg#4</td>\n",
       "      <td>entailment</td>\n",
       "      <td>6160193920.jpg#4r1e</td>\n",
       "      <td>A woman with a green headscarf, blue shirt and...</td>\n",
       "      <td>( ( ( A woman ) ( with ( ( ( ( ( a ( green hea...</td>\n",
       "      <td>(ROOT (NP (NP (DT A) (NN woman)) (PP (IN with)...</td>\n",
       "      <td>The woman is very happy.</td>\n",
       "      <td>( ( The woman ) ( ( is ( very happy ) ) . ) )</td>\n",
       "      <td>(ROOT (S (NP (DT The) (NN woman)) (VP (VBZ is)...</td>\n",
       "      <td>a woman green headscarf blue shirt big grin</td>\n",
       "      <td>the woman happi</td>\n",
       "    </tr>\n",
       "  </tbody>\n",
       "</table>\n",
       "</div>"
      ],
      "text/plain": [
       "                                    annotator_labels         captionID  \\\n",
       "0  [neutral, contradiction, contradiction, neutra...  2677109430.jpg#1   \n",
       "1  [entailment, entailment, entailment, neutral, ...  2677109430.jpg#1   \n",
       "2  [contradiction, contradiction, contradiction, ...  2677109430.jpg#1   \n",
       "3      [neutral, neutral, neutral, neutral, neutral]  6160193920.jpg#4   \n",
       "4  [entailment, entailment, contradiction, entail...  6160193920.jpg#4   \n",
       "\n",
       "      gold_label               pairID  \\\n",
       "0        neutral  2677109430.jpg#1r1n   \n",
       "1     entailment  2677109430.jpg#1r1e   \n",
       "2  contradiction  2677109430.jpg#1r1c   \n",
       "3        neutral  6160193920.jpg#4r1n   \n",
       "4     entailment  6160193920.jpg#4r1e   \n",
       "\n",
       "                                           sentence1  \\\n",
       "0  This church choir sings to the masses as they ...   \n",
       "1  This church choir sings to the masses as they ...   \n",
       "2  This church choir sings to the masses as they ...   \n",
       "3  A woman with a green headscarf, blue shirt and...   \n",
       "4  A woman with a green headscarf, blue shirt and...   \n",
       "\n",
       "                              sentence1_binary_parse  \\\n",
       "0  ( ( This ( church choir ) ) ( ( ( sings ( to (...   \n",
       "1  ( ( This ( church choir ) ) ( ( ( sings ( to (...   \n",
       "2  ( ( This ( church choir ) ) ( ( ( sings ( to (...   \n",
       "3  ( ( ( A woman ) ( with ( ( ( ( ( a ( green hea...   \n",
       "4  ( ( ( A woman ) ( with ( ( ( ( ( a ( green hea...   \n",
       "\n",
       "                                     sentence1_parse  \\\n",
       "0  (ROOT (S (NP (DT This) (NN church) (NN choir))...   \n",
       "1  (ROOT (S (NP (DT This) (NN church) (NN choir))...   \n",
       "2  (ROOT (S (NP (DT This) (NN church) (NN choir))...   \n",
       "3  (ROOT (NP (NP (DT A) (NN woman)) (PP (IN with)...   \n",
       "4  (ROOT (NP (NP (DT A) (NN woman)) (PP (IN with)...   \n",
       "\n",
       "                               sentence2  \\\n",
       "0  The church has cracks in the ceiling.   \n",
       "1        The church is filled with song.   \n",
       "2    A choir singing at a baseball game.   \n",
       "3                    The woman is young.   \n",
       "4               The woman is very happy.   \n",
       "\n",
       "                              sentence2_binary_parse  \\\n",
       "0  ( ( The church ) ( ( has ( cracks ( in ( the c...   \n",
       "1  ( ( The church ) ( ( is ( filled ( with song )...   \n",
       "2  ( ( ( A choir ) ( singing ( at ( a ( baseball ...   \n",
       "3               ( ( The woman ) ( ( is young ) . ) )   \n",
       "4      ( ( The woman ) ( ( is ( very happy ) ) . ) )   \n",
       "\n",
       "                                     sentence2_parse  \\\n",
       "0  (ROOT (S (NP (DT The) (NN church)) (VP (VBZ ha...   \n",
       "1  (ROOT (S (NP (DT The) (NN church)) (VP (VBZ is...   \n",
       "2  (ROOT (NP (NP (DT A) (NN choir)) (VP (VBG sing...   \n",
       "3  (ROOT (S (NP (DT The) (NN woman)) (VP (VBZ is)...   \n",
       "4  (ROOT (S (NP (DT The) (NN woman)) (VP (VBZ is)...   \n",
       "\n",
       "                                       sent1_process  \\\n",
       "0  thi church choir sing mass sing joyou song boo...   \n",
       "1  thi church choir sing mass sing joyou song boo...   \n",
       "2  thi church choir sing mass sing joyou song boo...   \n",
       "3        a woman green headscarf blue shirt big grin   \n",
       "4        a woman green headscarf blue shirt big grin   \n",
       "\n",
       "               sent2_process  \n",
       "0      the church crack ceil  \n",
       "1       the church fill song  \n",
       "2  a choir sing basebal game  \n",
       "3            the woman young  \n",
       "4            the woman happi  "
      ]
     },
     "execution_count": 18,
     "metadata": {},
     "output_type": "execute_result"
    }
   ],
   "source": [
    "testdf.head()"
   ]
  },
  {
   "cell_type": "code",
   "execution_count": 19,
   "metadata": {},
   "outputs": [
    {
     "data": {
      "text/plain": [
       "236"
      ]
     },
     "execution_count": 19,
     "metadata": {},
     "output_type": "execute_result"
    }
   ],
   "source": [
    "traindf.sent1_process.map(lambda x: len(x)).max()"
   ]
  },
  {
   "cell_type": "code",
   "execution_count": 20,
   "metadata": {},
   "outputs": [
    {
     "data": {
      "text/plain": [
       "167"
      ]
     },
     "execution_count": 20,
     "metadata": {},
     "output_type": "execute_result"
    }
   ],
   "source": [
    "traindf.sent2_process.map(lambda x: len(x)).max()"
   ]
  },
  {
   "cell_type": "code",
   "execution_count": 21,
   "metadata": {},
   "outputs": [
    {
     "data": {
      "text/plain": [
       "141"
      ]
     },
     "execution_count": 21,
     "metadata": {},
     "output_type": "execute_result"
    }
   ],
   "source": [
    "testdf.sent1_process.map(lambda x: len(x)).max()"
   ]
  },
  {
   "cell_type": "code",
   "execution_count": 22,
   "metadata": {},
   "outputs": [
    {
     "data": {
      "text/plain": [
       "113"
      ]
     },
     "execution_count": 22,
     "metadata": {},
     "output_type": "execute_result"
    }
   ],
   "source": [
    "testdf.sent2_process.map(lambda x: len(x)).max()"
   ]
  },
  {
   "cell_type": "code",
   "execution_count": 23,
   "metadata": {},
   "outputs": [],
   "source": [
    "def maxLenRows(df, sent_indesx):\n",
    "    maxlen = 0\n",
    "    if(sent_indesx == 1):\n",
    "        colname = 'sent1_process'\n",
    "    else:\n",
    "        colname = 'sent2_process'\n",
    "    for index, row in df.iterrows():\n",
    "        s = row[colname]\n",
    "        if(len(s.split()) > maxlen):\n",
    "            maxlen = len(s.split())\n",
    "            print(maxlen, row[colname])"
   ]
  },
  {
   "cell_type": "code",
   "execution_count": 24,
   "metadata": {},
   "outputs": [
    {
     "name": "stdout",
     "output_type": "stream",
     "text": [
      "6 a person hors jump broken airplan\n",
      "7 a boi jump skateboard middl red bridg\n",
      "16 an older man sit orang juic small tabl coffe shop employe bright color shirt smile background\n",
      "20 two adult femal white shade male grai cloth walk street awai eateri blur imag dark color red shirt person foreground\n",
      "21 a coupl appear indian pakistani walk path bodi water mother carri child diaper father wrap blanket logo humanitarian organ save children\n",
      "25 a man red black jacket blue shirt lot silver necklac blue jean fall check woman wear black leather jacket yellow bra pink fingerless glove sunglass\n",
      "27 there cano background beauti green grass kid stand shore lake crystal crisp look redhead boi wear red shirt red life vest yellow kayak doubl end yellow paddl\n",
      "30 a woman hold black umbrella wear black boot man black vest pant black messeng bag man dress black suit walk black poodl walk mural depict life size jump cow field\n",
      "36 on citi street drag queen wear polka dot outfit fishnet stock offer tropicana orang juic red plastic trai young woman white jacket blue jean background young men wear blue jean white t shirt mark word volunt\n",
      "41 a man wear helmet red pant white stripe go side white red shirt small bicycl hand leg air man wear light blue shirt dark blue trim black pant red stripe go side stand nearbi gestur man hold small figurin seven dwarv\n",
      "43 two boi look upward arm stretech sky boi left wear blue vest jacket grai long sleev shirt black jog pant black tenni shoe hat boi right wear silver vest jacket blue long sleev undershirt grai pant black tenni shoe black short hair glass\n"
     ]
    }
   ],
   "source": [
    "maxLenRows(traindf,1)"
   ]
  },
  {
   "cell_type": "code",
   "execution_count": 25,
   "metadata": {},
   "outputs": [
    {
     "name": "stdout",
     "output_type": "stream",
     "text": [
      "5 a person train hors competit\n",
      "8 an older man drink juic wait daughter work\n",
      "10 a blond man wear brown shirt read book bench park\n",
      "12 a middl ag orient woman green headscarf blue shirt flash giant smile\n",
      "14 a young woman wear even gown hold shoe hand dip foot buckingham fountain chicago\n",
      "17 a woman wear red apron inspect larg black pot tabl fill cup bowl pot basket assort size\n",
      "19 bald man facial hair wear dark suit tie plai bagpip young blond woman stand blue shirt skirt stick tongu\n",
      "20 bald man facial hair wear dark suit tie plai bagpip young blond woman stand blue shirt skirt stick tongu disgust\n",
      "21 a dark hair man blue jean light green polo stand man khaki cargo short blue polo pose pictur foreign fun vacat\n",
      "25 a brunett femal earli twenti wear modern rectangular glass black rim point faintli visibl scribbl look like dry eras board museum displai children s scribbl\n",
      "31 it photo young girl wear pink pant jacket s pink red blue white littl girl knee sit big rock smile pose pictur hand hold skinni long stick look like wood area\n",
      "32 a basebal player wear blue shirt run home plate oppos team s catcher tag catcher s face mask fli awai base foul line catcher s teammat cover home plate umpir seen make\n"
     ]
    }
   ],
   "source": [
    "maxLenRows(traindf,2)"
   ]
  },
  {
   "cell_type": "code",
   "execution_count": 26,
   "metadata": {},
   "outputs": [],
   "source": [
    "def rightpadding(sentence, totalword_cnt):\n",
    "    sentlen= len(sentence.split())\n",
    "    if(sentlen<totalword_cnt):\n",
    "        diff = totalword_cnt - sentlen\n",
    "        sentence = sentence + \" ende\"*diff\n",
    "    return sentence    "
   ]
  },
  {
   "cell_type": "code",
   "execution_count": 27,
   "metadata": {},
   "outputs": [
    {
     "data": {
      "text/plain": [
       "'a person train hors competit ende ende ende ende ende'"
      ]
     },
     "execution_count": 27,
     "metadata": {},
     "output_type": "execute_result"
    }
   ],
   "source": [
    "rightpadding('a person train hors competit', 10)"
   ]
  },
  {
   "cell_type": "code",
   "execution_count": 28,
   "metadata": {},
   "outputs": [],
   "source": [
    "totalword_cnt = 44\n",
    "traindf['sent1_pad'] = traindf.apply(lambda x: rightpadding(x['sent1_process'],totalword_cnt), axis=1)\n",
    "traindf['sent2_pad'] = traindf.apply(lambda x: rightpadding(x['sent2_process'],totalword_cnt), axis=1)"
   ]
  },
  {
   "cell_type": "code",
   "execution_count": 29,
   "metadata": {},
   "outputs": [
    {
     "data": {
      "text/html": [
       "<div>\n",
       "<style scoped>\n",
       "    .dataframe tbody tr th:only-of-type {\n",
       "        vertical-align: middle;\n",
       "    }\n",
       "\n",
       "    .dataframe tbody tr th {\n",
       "        vertical-align: top;\n",
       "    }\n",
       "\n",
       "    .dataframe thead th {\n",
       "        text-align: right;\n",
       "    }\n",
       "</style>\n",
       "<table border=\"1\" class=\"dataframe\">\n",
       "  <thead>\n",
       "    <tr style=\"text-align: right;\">\n",
       "      <th></th>\n",
       "      <th>annotator_labels</th>\n",
       "      <th>captionID</th>\n",
       "      <th>gold_label</th>\n",
       "      <th>pairID</th>\n",
       "      <th>sentence1</th>\n",
       "      <th>sentence1_binary_parse</th>\n",
       "      <th>sentence1_parse</th>\n",
       "      <th>sentence2</th>\n",
       "      <th>sentence2_binary_parse</th>\n",
       "      <th>sentence2_parse</th>\n",
       "      <th>sent1_process</th>\n",
       "      <th>sent2_process</th>\n",
       "      <th>sent1_pad</th>\n",
       "      <th>sent2_pad</th>\n",
       "    </tr>\n",
       "  </thead>\n",
       "  <tbody>\n",
       "    <tr>\n",
       "      <th>0</th>\n",
       "      <td>[neutral]</td>\n",
       "      <td>3416050480.jpg#4</td>\n",
       "      <td>neutral</td>\n",
       "      <td>3416050480.jpg#4r1n</td>\n",
       "      <td>A person on a horse jumps over a broken down a...</td>\n",
       "      <td>( ( ( A person ) ( on ( a horse ) ) ) ( ( jump...</td>\n",
       "      <td>(ROOT (S (NP (NP (DT A) (NN person)) (PP (IN o...</td>\n",
       "      <td>A person is training his horse for a competition.</td>\n",
       "      <td>( ( A person ) ( ( is ( ( training ( his horse...</td>\n",
       "      <td>(ROOT (S (NP (DT A) (NN person)) (VP (VBZ is) ...</td>\n",
       "      <td>a person hors jump broken airplan</td>\n",
       "      <td>a person train hors competit</td>\n",
       "      <td>a person hors jump broken airplan ende ende en...</td>\n",
       "      <td>a person train hors competit ende ende ende en...</td>\n",
       "    </tr>\n",
       "    <tr>\n",
       "      <th>1</th>\n",
       "      <td>[contradiction]</td>\n",
       "      <td>3416050480.jpg#4</td>\n",
       "      <td>contradiction</td>\n",
       "      <td>3416050480.jpg#4r1c</td>\n",
       "      <td>A person on a horse jumps over a broken down a...</td>\n",
       "      <td>( ( ( A person ) ( on ( a horse ) ) ) ( ( jump...</td>\n",
       "      <td>(ROOT (S (NP (NP (DT A) (NN person)) (PP (IN o...</td>\n",
       "      <td>A person is at a diner, ordering an omelette.</td>\n",
       "      <td>( ( A person ) ( ( ( ( is ( at ( a diner ) ) )...</td>\n",
       "      <td>(ROOT (S (NP (DT A) (NN person)) (VP (VBZ is) ...</td>\n",
       "      <td>a person hors jump broken airplan</td>\n",
       "      <td>a person diner order omelett</td>\n",
       "      <td>a person hors jump broken airplan ende ende en...</td>\n",
       "      <td>a person diner order omelett ende ende ende en...</td>\n",
       "    </tr>\n",
       "    <tr>\n",
       "      <th>2</th>\n",
       "      <td>[entailment]</td>\n",
       "      <td>3416050480.jpg#4</td>\n",
       "      <td>entailment</td>\n",
       "      <td>3416050480.jpg#4r1e</td>\n",
       "      <td>A person on a horse jumps over a broken down a...</td>\n",
       "      <td>( ( ( A person ) ( on ( a horse ) ) ) ( ( jump...</td>\n",
       "      <td>(ROOT (S (NP (NP (DT A) (NN person)) (PP (IN o...</td>\n",
       "      <td>A person is outdoors, on a horse.</td>\n",
       "      <td>( ( A person ) ( ( ( ( is outdoors ) , ) ( on ...</td>\n",
       "      <td>(ROOT (S (NP (DT A) (NN person)) (VP (VBZ is) ...</td>\n",
       "      <td>a person hors jump broken airplan</td>\n",
       "      <td>a person outdoor hors</td>\n",
       "      <td>a person hors jump broken airplan ende ende en...</td>\n",
       "      <td>a person outdoor hors ende ende ende ende ende...</td>\n",
       "    </tr>\n",
       "    <tr>\n",
       "      <th>3</th>\n",
       "      <td>[neutral]</td>\n",
       "      <td>2267923837.jpg#2</td>\n",
       "      <td>neutral</td>\n",
       "      <td>2267923837.jpg#2r1n</td>\n",
       "      <td>Children smiling and waving at camera</td>\n",
       "      <td>( Children ( ( ( smiling and ) waving ) ( at c...</td>\n",
       "      <td>(ROOT (NP (S (NP (NNP Children)) (VP (VBG smil...</td>\n",
       "      <td>They are smiling at their parents</td>\n",
       "      <td>( They ( are ( smiling ( at ( their parents ) ...</td>\n",
       "      <td>(ROOT (S (NP (PRP They)) (VP (VBP are) (VP (VB...</td>\n",
       "      <td>children smile wave camera</td>\n",
       "      <td>thei smile parent</td>\n",
       "      <td>children smile wave camera ende ende ende ende...</td>\n",
       "      <td>thei smile parent ende ende ende ende ende end...</td>\n",
       "    </tr>\n",
       "    <tr>\n",
       "      <th>4</th>\n",
       "      <td>[entailment]</td>\n",
       "      <td>2267923837.jpg#2</td>\n",
       "      <td>entailment</td>\n",
       "      <td>2267923837.jpg#2r1e</td>\n",
       "      <td>Children smiling and waving at camera</td>\n",
       "      <td>( Children ( ( ( smiling and ) waving ) ( at c...</td>\n",
       "      <td>(ROOT (NP (S (NP (NNP Children)) (VP (VBG smil...</td>\n",
       "      <td>There are children present</td>\n",
       "      <td>( There ( ( are children ) present ) )</td>\n",
       "      <td>(ROOT (S (NP (EX There)) (VP (VBP are) (NP (NN...</td>\n",
       "      <td>children smile wave camera</td>\n",
       "      <td>there children present</td>\n",
       "      <td>children smile wave camera ende ende ende ende...</td>\n",
       "      <td>there children present ende ende ende ende end...</td>\n",
       "    </tr>\n",
       "  </tbody>\n",
       "</table>\n",
       "</div>"
      ],
      "text/plain": [
       "  annotator_labels         captionID     gold_label               pairID  \\\n",
       "0        [neutral]  3416050480.jpg#4        neutral  3416050480.jpg#4r1n   \n",
       "1  [contradiction]  3416050480.jpg#4  contradiction  3416050480.jpg#4r1c   \n",
       "2     [entailment]  3416050480.jpg#4     entailment  3416050480.jpg#4r1e   \n",
       "3        [neutral]  2267923837.jpg#2        neutral  2267923837.jpg#2r1n   \n",
       "4     [entailment]  2267923837.jpg#2     entailment  2267923837.jpg#2r1e   \n",
       "\n",
       "                                           sentence1  \\\n",
       "0  A person on a horse jumps over a broken down a...   \n",
       "1  A person on a horse jumps over a broken down a...   \n",
       "2  A person on a horse jumps over a broken down a...   \n",
       "3              Children smiling and waving at camera   \n",
       "4              Children smiling and waving at camera   \n",
       "\n",
       "                              sentence1_binary_parse  \\\n",
       "0  ( ( ( A person ) ( on ( a horse ) ) ) ( ( jump...   \n",
       "1  ( ( ( A person ) ( on ( a horse ) ) ) ( ( jump...   \n",
       "2  ( ( ( A person ) ( on ( a horse ) ) ) ( ( jump...   \n",
       "3  ( Children ( ( ( smiling and ) waving ) ( at c...   \n",
       "4  ( Children ( ( ( smiling and ) waving ) ( at c...   \n",
       "\n",
       "                                     sentence1_parse  \\\n",
       "0  (ROOT (S (NP (NP (DT A) (NN person)) (PP (IN o...   \n",
       "1  (ROOT (S (NP (NP (DT A) (NN person)) (PP (IN o...   \n",
       "2  (ROOT (S (NP (NP (DT A) (NN person)) (PP (IN o...   \n",
       "3  (ROOT (NP (S (NP (NNP Children)) (VP (VBG smil...   \n",
       "4  (ROOT (NP (S (NP (NNP Children)) (VP (VBG smil...   \n",
       "\n",
       "                                           sentence2  \\\n",
       "0  A person is training his horse for a competition.   \n",
       "1      A person is at a diner, ordering an omelette.   \n",
       "2                  A person is outdoors, on a horse.   \n",
       "3                  They are smiling at their parents   \n",
       "4                         There are children present   \n",
       "\n",
       "                              sentence2_binary_parse  \\\n",
       "0  ( ( A person ) ( ( is ( ( training ( his horse...   \n",
       "1  ( ( A person ) ( ( ( ( is ( at ( a diner ) ) )...   \n",
       "2  ( ( A person ) ( ( ( ( is outdoors ) , ) ( on ...   \n",
       "3  ( They ( are ( smiling ( at ( their parents ) ...   \n",
       "4             ( There ( ( are children ) present ) )   \n",
       "\n",
       "                                     sentence2_parse  \\\n",
       "0  (ROOT (S (NP (DT A) (NN person)) (VP (VBZ is) ...   \n",
       "1  (ROOT (S (NP (DT A) (NN person)) (VP (VBZ is) ...   \n",
       "2  (ROOT (S (NP (DT A) (NN person)) (VP (VBZ is) ...   \n",
       "3  (ROOT (S (NP (PRP They)) (VP (VBP are) (VP (VB...   \n",
       "4  (ROOT (S (NP (EX There)) (VP (VBP are) (NP (NN...   \n",
       "\n",
       "                       sent1_process                 sent2_process  \\\n",
       "0  a person hors jump broken airplan  a person train hors competit   \n",
       "1  a person hors jump broken airplan  a person diner order omelett   \n",
       "2  a person hors jump broken airplan         a person outdoor hors   \n",
       "3         children smile wave camera             thei smile parent   \n",
       "4         children smile wave camera        there children present   \n",
       "\n",
       "                                           sent1_pad  \\\n",
       "0  a person hors jump broken airplan ende ende en...   \n",
       "1  a person hors jump broken airplan ende ende en...   \n",
       "2  a person hors jump broken airplan ende ende en...   \n",
       "3  children smile wave camera ende ende ende ende...   \n",
       "4  children smile wave camera ende ende ende ende...   \n",
       "\n",
       "                                           sent2_pad  \n",
       "0  a person train hors competit ende ende ende en...  \n",
       "1  a person diner order omelett ende ende ende en...  \n",
       "2  a person outdoor hors ende ende ende ende ende...  \n",
       "3  thei smile parent ende ende ende ende ende end...  \n",
       "4  there children present ende ende ende ende end...  "
      ]
     },
     "execution_count": 29,
     "metadata": {},
     "output_type": "execute_result"
    }
   ],
   "source": [
    "traindf.head()"
   ]
  },
  {
   "cell_type": "code",
   "execution_count": 30,
   "metadata": {},
   "outputs": [],
   "source": [
    "totalword_cnt = 44\n",
    "testdf['sent1_pad'] = testdf.apply(lambda x: rightpadding(x['sent1_process'],totalword_cnt), axis=1)\n",
    "testdf['sent2_pad'] = testdf.apply(lambda x: rightpadding(x['sent2_process'],totalword_cnt), axis=1)"
   ]
  },
  {
   "cell_type": "code",
   "execution_count": 31,
   "metadata": {},
   "outputs": [
    {
     "data": {
      "text/html": [
       "<div>\n",
       "<style scoped>\n",
       "    .dataframe tbody tr th:only-of-type {\n",
       "        vertical-align: middle;\n",
       "    }\n",
       "\n",
       "    .dataframe tbody tr th {\n",
       "        vertical-align: top;\n",
       "    }\n",
       "\n",
       "    .dataframe thead th {\n",
       "        text-align: right;\n",
       "    }\n",
       "</style>\n",
       "<table border=\"1\" class=\"dataframe\">\n",
       "  <thead>\n",
       "    <tr style=\"text-align: right;\">\n",
       "      <th></th>\n",
       "      <th>annotator_labels</th>\n",
       "      <th>captionID</th>\n",
       "      <th>gold_label</th>\n",
       "      <th>pairID</th>\n",
       "      <th>sentence1</th>\n",
       "      <th>sentence1_binary_parse</th>\n",
       "      <th>sentence1_parse</th>\n",
       "      <th>sentence2</th>\n",
       "      <th>sentence2_binary_parse</th>\n",
       "      <th>sentence2_parse</th>\n",
       "      <th>sent1_process</th>\n",
       "      <th>sent2_process</th>\n",
       "      <th>sent1_pad</th>\n",
       "      <th>sent2_pad</th>\n",
       "    </tr>\n",
       "  </thead>\n",
       "  <tbody>\n",
       "    <tr>\n",
       "      <th>0</th>\n",
       "      <td>[neutral, contradiction, contradiction, neutra...</td>\n",
       "      <td>2677109430.jpg#1</td>\n",
       "      <td>neutral</td>\n",
       "      <td>2677109430.jpg#1r1n</td>\n",
       "      <td>This church choir sings to the masses as they ...</td>\n",
       "      <td>( ( This ( church choir ) ) ( ( ( sings ( to (...</td>\n",
       "      <td>(ROOT (S (NP (DT This) (NN church) (NN choir))...</td>\n",
       "      <td>The church has cracks in the ceiling.</td>\n",
       "      <td>( ( The church ) ( ( has ( cracks ( in ( the c...</td>\n",
       "      <td>(ROOT (S (NP (DT The) (NN church)) (VP (VBZ ha...</td>\n",
       "      <td>thi church choir sing mass sing joyou song boo...</td>\n",
       "      <td>the church crack ceil</td>\n",
       "      <td>thi church choir sing mass sing joyou song boo...</td>\n",
       "      <td>the church crack ceil ende ende ende ende ende...</td>\n",
       "    </tr>\n",
       "    <tr>\n",
       "      <th>1</th>\n",
       "      <td>[entailment, entailment, entailment, neutral, ...</td>\n",
       "      <td>2677109430.jpg#1</td>\n",
       "      <td>entailment</td>\n",
       "      <td>2677109430.jpg#1r1e</td>\n",
       "      <td>This church choir sings to the masses as they ...</td>\n",
       "      <td>( ( This ( church choir ) ) ( ( ( sings ( to (...</td>\n",
       "      <td>(ROOT (S (NP (DT This) (NN church) (NN choir))...</td>\n",
       "      <td>The church is filled with song.</td>\n",
       "      <td>( ( The church ) ( ( is ( filled ( with song )...</td>\n",
       "      <td>(ROOT (S (NP (DT The) (NN church)) (VP (VBZ is...</td>\n",
       "      <td>thi church choir sing mass sing joyou song boo...</td>\n",
       "      <td>the church fill song</td>\n",
       "      <td>thi church choir sing mass sing joyou song boo...</td>\n",
       "      <td>the church fill song ende ende ende ende ende ...</td>\n",
       "    </tr>\n",
       "    <tr>\n",
       "      <th>2</th>\n",
       "      <td>[contradiction, contradiction, contradiction, ...</td>\n",
       "      <td>2677109430.jpg#1</td>\n",
       "      <td>contradiction</td>\n",
       "      <td>2677109430.jpg#1r1c</td>\n",
       "      <td>This church choir sings to the masses as they ...</td>\n",
       "      <td>( ( This ( church choir ) ) ( ( ( sings ( to (...</td>\n",
       "      <td>(ROOT (S (NP (DT This) (NN church) (NN choir))...</td>\n",
       "      <td>A choir singing at a baseball game.</td>\n",
       "      <td>( ( ( A choir ) ( singing ( at ( a ( baseball ...</td>\n",
       "      <td>(ROOT (NP (NP (DT A) (NN choir)) (VP (VBG sing...</td>\n",
       "      <td>thi church choir sing mass sing joyou song boo...</td>\n",
       "      <td>a choir sing basebal game</td>\n",
       "      <td>thi church choir sing mass sing joyou song boo...</td>\n",
       "      <td>a choir sing basebal game ende ende ende ende ...</td>\n",
       "    </tr>\n",
       "    <tr>\n",
       "      <th>3</th>\n",
       "      <td>[neutral, neutral, neutral, neutral, neutral]</td>\n",
       "      <td>6160193920.jpg#4</td>\n",
       "      <td>neutral</td>\n",
       "      <td>6160193920.jpg#4r1n</td>\n",
       "      <td>A woman with a green headscarf, blue shirt and...</td>\n",
       "      <td>( ( ( A woman ) ( with ( ( ( ( ( a ( green hea...</td>\n",
       "      <td>(ROOT (NP (NP (DT A) (NN woman)) (PP (IN with)...</td>\n",
       "      <td>The woman is young.</td>\n",
       "      <td>( ( The woman ) ( ( is young ) . ) )</td>\n",
       "      <td>(ROOT (S (NP (DT The) (NN woman)) (VP (VBZ is)...</td>\n",
       "      <td>a woman green headscarf blue shirt big grin</td>\n",
       "      <td>the woman young</td>\n",
       "      <td>a woman green headscarf blue shirt big grin en...</td>\n",
       "      <td>the woman young ende ende ende ende ende ende ...</td>\n",
       "    </tr>\n",
       "    <tr>\n",
       "      <th>4</th>\n",
       "      <td>[entailment, entailment, contradiction, entail...</td>\n",
       "      <td>6160193920.jpg#4</td>\n",
       "      <td>entailment</td>\n",
       "      <td>6160193920.jpg#4r1e</td>\n",
       "      <td>A woman with a green headscarf, blue shirt and...</td>\n",
       "      <td>( ( ( A woman ) ( with ( ( ( ( ( a ( green hea...</td>\n",
       "      <td>(ROOT (NP (NP (DT A) (NN woman)) (PP (IN with)...</td>\n",
       "      <td>The woman is very happy.</td>\n",
       "      <td>( ( The woman ) ( ( is ( very happy ) ) . ) )</td>\n",
       "      <td>(ROOT (S (NP (DT The) (NN woman)) (VP (VBZ is)...</td>\n",
       "      <td>a woman green headscarf blue shirt big grin</td>\n",
       "      <td>the woman happi</td>\n",
       "      <td>a woman green headscarf blue shirt big grin en...</td>\n",
       "      <td>the woman happi ende ende ende ende ende ende ...</td>\n",
       "    </tr>\n",
       "  </tbody>\n",
       "</table>\n",
       "</div>"
      ],
      "text/plain": [
       "                                    annotator_labels         captionID  \\\n",
       "0  [neutral, contradiction, contradiction, neutra...  2677109430.jpg#1   \n",
       "1  [entailment, entailment, entailment, neutral, ...  2677109430.jpg#1   \n",
       "2  [contradiction, contradiction, contradiction, ...  2677109430.jpg#1   \n",
       "3      [neutral, neutral, neutral, neutral, neutral]  6160193920.jpg#4   \n",
       "4  [entailment, entailment, contradiction, entail...  6160193920.jpg#4   \n",
       "\n",
       "      gold_label               pairID  \\\n",
       "0        neutral  2677109430.jpg#1r1n   \n",
       "1     entailment  2677109430.jpg#1r1e   \n",
       "2  contradiction  2677109430.jpg#1r1c   \n",
       "3        neutral  6160193920.jpg#4r1n   \n",
       "4     entailment  6160193920.jpg#4r1e   \n",
       "\n",
       "                                           sentence1  \\\n",
       "0  This church choir sings to the masses as they ...   \n",
       "1  This church choir sings to the masses as they ...   \n",
       "2  This church choir sings to the masses as they ...   \n",
       "3  A woman with a green headscarf, blue shirt and...   \n",
       "4  A woman with a green headscarf, blue shirt and...   \n",
       "\n",
       "                              sentence1_binary_parse  \\\n",
       "0  ( ( This ( church choir ) ) ( ( ( sings ( to (...   \n",
       "1  ( ( This ( church choir ) ) ( ( ( sings ( to (...   \n",
       "2  ( ( This ( church choir ) ) ( ( ( sings ( to (...   \n",
       "3  ( ( ( A woman ) ( with ( ( ( ( ( a ( green hea...   \n",
       "4  ( ( ( A woman ) ( with ( ( ( ( ( a ( green hea...   \n",
       "\n",
       "                                     sentence1_parse  \\\n",
       "0  (ROOT (S (NP (DT This) (NN church) (NN choir))...   \n",
       "1  (ROOT (S (NP (DT This) (NN church) (NN choir))...   \n",
       "2  (ROOT (S (NP (DT This) (NN church) (NN choir))...   \n",
       "3  (ROOT (NP (NP (DT A) (NN woman)) (PP (IN with)...   \n",
       "4  (ROOT (NP (NP (DT A) (NN woman)) (PP (IN with)...   \n",
       "\n",
       "                               sentence2  \\\n",
       "0  The church has cracks in the ceiling.   \n",
       "1        The church is filled with song.   \n",
       "2    A choir singing at a baseball game.   \n",
       "3                    The woman is young.   \n",
       "4               The woman is very happy.   \n",
       "\n",
       "                              sentence2_binary_parse  \\\n",
       "0  ( ( The church ) ( ( has ( cracks ( in ( the c...   \n",
       "1  ( ( The church ) ( ( is ( filled ( with song )...   \n",
       "2  ( ( ( A choir ) ( singing ( at ( a ( baseball ...   \n",
       "3               ( ( The woman ) ( ( is young ) . ) )   \n",
       "4      ( ( The woman ) ( ( is ( very happy ) ) . ) )   \n",
       "\n",
       "                                     sentence2_parse  \\\n",
       "0  (ROOT (S (NP (DT The) (NN church)) (VP (VBZ ha...   \n",
       "1  (ROOT (S (NP (DT The) (NN church)) (VP (VBZ is...   \n",
       "2  (ROOT (NP (NP (DT A) (NN choir)) (VP (VBG sing...   \n",
       "3  (ROOT (S (NP (DT The) (NN woman)) (VP (VBZ is)...   \n",
       "4  (ROOT (S (NP (DT The) (NN woman)) (VP (VBZ is)...   \n",
       "\n",
       "                                       sent1_process  \\\n",
       "0  thi church choir sing mass sing joyou song boo...   \n",
       "1  thi church choir sing mass sing joyou song boo...   \n",
       "2  thi church choir sing mass sing joyou song boo...   \n",
       "3        a woman green headscarf blue shirt big grin   \n",
       "4        a woman green headscarf blue shirt big grin   \n",
       "\n",
       "               sent2_process  \\\n",
       "0      the church crack ceil   \n",
       "1       the church fill song   \n",
       "2  a choir sing basebal game   \n",
       "3            the woman young   \n",
       "4            the woman happi   \n",
       "\n",
       "                                           sent1_pad  \\\n",
       "0  thi church choir sing mass sing joyou song boo...   \n",
       "1  thi church choir sing mass sing joyou song boo...   \n",
       "2  thi church choir sing mass sing joyou song boo...   \n",
       "3  a woman green headscarf blue shirt big grin en...   \n",
       "4  a woman green headscarf blue shirt big grin en...   \n",
       "\n",
       "                                           sent2_pad  \n",
       "0  the church crack ceil ende ende ende ende ende...  \n",
       "1  the church fill song ende ende ende ende ende ...  \n",
       "2  a choir sing basebal game ende ende ende ende ...  \n",
       "3  the woman young ende ende ende ende ende ende ...  \n",
       "4  the woman happi ende ende ende ende ende ende ...  "
      ]
     },
     "execution_count": 31,
     "metadata": {},
     "output_type": "execute_result"
    }
   ],
   "source": [
    "testdf.head()"
   ]
  },
  {
   "cell_type": "code",
   "execution_count": 32,
   "metadata": {},
   "outputs": [],
   "source": [
    "def concatenateString(str1, str2):\n",
    "    return str1 + \" \" + str2"
   ]
  },
  {
   "cell_type": "code",
   "execution_count": 33,
   "metadata": {},
   "outputs": [
    {
     "data": {
      "text/plain": [
       "'a woman green headscar thi church choir sing mass sing'"
      ]
     },
     "execution_count": 33,
     "metadata": {},
     "output_type": "execute_result"
    }
   ],
   "source": [
    "concatenateString(\"a woman green headscar\", \"thi church choir sing mass sing\")"
   ]
  },
  {
   "cell_type": "code",
   "execution_count": 34,
   "metadata": {},
   "outputs": [],
   "source": [
    "traindf['text'] = traindf.apply(lambda x: concatenateString(x['sent1_pad'],x['sent2_pad']), axis=1)\n",
    "testdf['text'] = testdf.apply(lambda x: concatenateString(x['sent1_pad'],x['sent2_pad']), axis=1)"
   ]
  },
  {
   "cell_type": "code",
   "execution_count": 35,
   "metadata": {},
   "outputs": [
    {
     "data": {
      "text/html": [
       "<div>\n",
       "<style scoped>\n",
       "    .dataframe tbody tr th:only-of-type {\n",
       "        vertical-align: middle;\n",
       "    }\n",
       "\n",
       "    .dataframe tbody tr th {\n",
       "        vertical-align: top;\n",
       "    }\n",
       "\n",
       "    .dataframe thead th {\n",
       "        text-align: right;\n",
       "    }\n",
       "</style>\n",
       "<table border=\"1\" class=\"dataframe\">\n",
       "  <thead>\n",
       "    <tr style=\"text-align: right;\">\n",
       "      <th></th>\n",
       "      <th>annotator_labels</th>\n",
       "      <th>captionID</th>\n",
       "      <th>gold_label</th>\n",
       "      <th>pairID</th>\n",
       "      <th>sentence1</th>\n",
       "      <th>sentence1_binary_parse</th>\n",
       "      <th>sentence1_parse</th>\n",
       "      <th>sentence2</th>\n",
       "      <th>sentence2_binary_parse</th>\n",
       "      <th>sentence2_parse</th>\n",
       "      <th>sent1_process</th>\n",
       "      <th>sent2_process</th>\n",
       "      <th>sent1_pad</th>\n",
       "      <th>sent2_pad</th>\n",
       "      <th>text</th>\n",
       "    </tr>\n",
       "  </thead>\n",
       "  <tbody>\n",
       "    <tr>\n",
       "      <th>0</th>\n",
       "      <td>[neutral]</td>\n",
       "      <td>3416050480.jpg#4</td>\n",
       "      <td>neutral</td>\n",
       "      <td>3416050480.jpg#4r1n</td>\n",
       "      <td>A person on a horse jumps over a broken down a...</td>\n",
       "      <td>( ( ( A person ) ( on ( a horse ) ) ) ( ( jump...</td>\n",
       "      <td>(ROOT (S (NP (NP (DT A) (NN person)) (PP (IN o...</td>\n",
       "      <td>A person is training his horse for a competition.</td>\n",
       "      <td>( ( A person ) ( ( is ( ( training ( his horse...</td>\n",
       "      <td>(ROOT (S (NP (DT A) (NN person)) (VP (VBZ is) ...</td>\n",
       "      <td>a person hors jump broken airplan</td>\n",
       "      <td>a person train hors competit</td>\n",
       "      <td>a person hors jump broken airplan ende ende en...</td>\n",
       "      <td>a person train hors competit ende ende ende en...</td>\n",
       "      <td>a person hors jump broken airplan ende ende en...</td>\n",
       "    </tr>\n",
       "    <tr>\n",
       "      <th>1</th>\n",
       "      <td>[contradiction]</td>\n",
       "      <td>3416050480.jpg#4</td>\n",
       "      <td>contradiction</td>\n",
       "      <td>3416050480.jpg#4r1c</td>\n",
       "      <td>A person on a horse jumps over a broken down a...</td>\n",
       "      <td>( ( ( A person ) ( on ( a horse ) ) ) ( ( jump...</td>\n",
       "      <td>(ROOT (S (NP (NP (DT A) (NN person)) (PP (IN o...</td>\n",
       "      <td>A person is at a diner, ordering an omelette.</td>\n",
       "      <td>( ( A person ) ( ( ( ( is ( at ( a diner ) ) )...</td>\n",
       "      <td>(ROOT (S (NP (DT A) (NN person)) (VP (VBZ is) ...</td>\n",
       "      <td>a person hors jump broken airplan</td>\n",
       "      <td>a person diner order omelett</td>\n",
       "      <td>a person hors jump broken airplan ende ende en...</td>\n",
       "      <td>a person diner order omelett ende ende ende en...</td>\n",
       "      <td>a person hors jump broken airplan ende ende en...</td>\n",
       "    </tr>\n",
       "    <tr>\n",
       "      <th>2</th>\n",
       "      <td>[entailment]</td>\n",
       "      <td>3416050480.jpg#4</td>\n",
       "      <td>entailment</td>\n",
       "      <td>3416050480.jpg#4r1e</td>\n",
       "      <td>A person on a horse jumps over a broken down a...</td>\n",
       "      <td>( ( ( A person ) ( on ( a horse ) ) ) ( ( jump...</td>\n",
       "      <td>(ROOT (S (NP (NP (DT A) (NN person)) (PP (IN o...</td>\n",
       "      <td>A person is outdoors, on a horse.</td>\n",
       "      <td>( ( A person ) ( ( ( ( is outdoors ) , ) ( on ...</td>\n",
       "      <td>(ROOT (S (NP (DT A) (NN person)) (VP (VBZ is) ...</td>\n",
       "      <td>a person hors jump broken airplan</td>\n",
       "      <td>a person outdoor hors</td>\n",
       "      <td>a person hors jump broken airplan ende ende en...</td>\n",
       "      <td>a person outdoor hors ende ende ende ende ende...</td>\n",
       "      <td>a person hors jump broken airplan ende ende en...</td>\n",
       "    </tr>\n",
       "    <tr>\n",
       "      <th>3</th>\n",
       "      <td>[neutral]</td>\n",
       "      <td>2267923837.jpg#2</td>\n",
       "      <td>neutral</td>\n",
       "      <td>2267923837.jpg#2r1n</td>\n",
       "      <td>Children smiling and waving at camera</td>\n",
       "      <td>( Children ( ( ( smiling and ) waving ) ( at c...</td>\n",
       "      <td>(ROOT (NP (S (NP (NNP Children)) (VP (VBG smil...</td>\n",
       "      <td>They are smiling at their parents</td>\n",
       "      <td>( They ( are ( smiling ( at ( their parents ) ...</td>\n",
       "      <td>(ROOT (S (NP (PRP They)) (VP (VBP are) (VP (VB...</td>\n",
       "      <td>children smile wave camera</td>\n",
       "      <td>thei smile parent</td>\n",
       "      <td>children smile wave camera ende ende ende ende...</td>\n",
       "      <td>thei smile parent ende ende ende ende ende end...</td>\n",
       "      <td>children smile wave camera ende ende ende ende...</td>\n",
       "    </tr>\n",
       "    <tr>\n",
       "      <th>4</th>\n",
       "      <td>[entailment]</td>\n",
       "      <td>2267923837.jpg#2</td>\n",
       "      <td>entailment</td>\n",
       "      <td>2267923837.jpg#2r1e</td>\n",
       "      <td>Children smiling and waving at camera</td>\n",
       "      <td>( Children ( ( ( smiling and ) waving ) ( at c...</td>\n",
       "      <td>(ROOT (NP (S (NP (NNP Children)) (VP (VBG smil...</td>\n",
       "      <td>There are children present</td>\n",
       "      <td>( There ( ( are children ) present ) )</td>\n",
       "      <td>(ROOT (S (NP (EX There)) (VP (VBP are) (NP (NN...</td>\n",
       "      <td>children smile wave camera</td>\n",
       "      <td>there children present</td>\n",
       "      <td>children smile wave camera ende ende ende ende...</td>\n",
       "      <td>there children present ende ende ende ende end...</td>\n",
       "      <td>children smile wave camera ende ende ende ende...</td>\n",
       "    </tr>\n",
       "  </tbody>\n",
       "</table>\n",
       "</div>"
      ],
      "text/plain": [
       "  annotator_labels         captionID     gold_label               pairID  \\\n",
       "0        [neutral]  3416050480.jpg#4        neutral  3416050480.jpg#4r1n   \n",
       "1  [contradiction]  3416050480.jpg#4  contradiction  3416050480.jpg#4r1c   \n",
       "2     [entailment]  3416050480.jpg#4     entailment  3416050480.jpg#4r1e   \n",
       "3        [neutral]  2267923837.jpg#2        neutral  2267923837.jpg#2r1n   \n",
       "4     [entailment]  2267923837.jpg#2     entailment  2267923837.jpg#2r1e   \n",
       "\n",
       "                                           sentence1  \\\n",
       "0  A person on a horse jumps over a broken down a...   \n",
       "1  A person on a horse jumps over a broken down a...   \n",
       "2  A person on a horse jumps over a broken down a...   \n",
       "3              Children smiling and waving at camera   \n",
       "4              Children smiling and waving at camera   \n",
       "\n",
       "                              sentence1_binary_parse  \\\n",
       "0  ( ( ( A person ) ( on ( a horse ) ) ) ( ( jump...   \n",
       "1  ( ( ( A person ) ( on ( a horse ) ) ) ( ( jump...   \n",
       "2  ( ( ( A person ) ( on ( a horse ) ) ) ( ( jump...   \n",
       "3  ( Children ( ( ( smiling and ) waving ) ( at c...   \n",
       "4  ( Children ( ( ( smiling and ) waving ) ( at c...   \n",
       "\n",
       "                                     sentence1_parse  \\\n",
       "0  (ROOT (S (NP (NP (DT A) (NN person)) (PP (IN o...   \n",
       "1  (ROOT (S (NP (NP (DT A) (NN person)) (PP (IN o...   \n",
       "2  (ROOT (S (NP (NP (DT A) (NN person)) (PP (IN o...   \n",
       "3  (ROOT (NP (S (NP (NNP Children)) (VP (VBG smil...   \n",
       "4  (ROOT (NP (S (NP (NNP Children)) (VP (VBG smil...   \n",
       "\n",
       "                                           sentence2  \\\n",
       "0  A person is training his horse for a competition.   \n",
       "1      A person is at a diner, ordering an omelette.   \n",
       "2                  A person is outdoors, on a horse.   \n",
       "3                  They are smiling at their parents   \n",
       "4                         There are children present   \n",
       "\n",
       "                              sentence2_binary_parse  \\\n",
       "0  ( ( A person ) ( ( is ( ( training ( his horse...   \n",
       "1  ( ( A person ) ( ( ( ( is ( at ( a diner ) ) )...   \n",
       "2  ( ( A person ) ( ( ( ( is outdoors ) , ) ( on ...   \n",
       "3  ( They ( are ( smiling ( at ( their parents ) ...   \n",
       "4             ( There ( ( are children ) present ) )   \n",
       "\n",
       "                                     sentence2_parse  \\\n",
       "0  (ROOT (S (NP (DT A) (NN person)) (VP (VBZ is) ...   \n",
       "1  (ROOT (S (NP (DT A) (NN person)) (VP (VBZ is) ...   \n",
       "2  (ROOT (S (NP (DT A) (NN person)) (VP (VBZ is) ...   \n",
       "3  (ROOT (S (NP (PRP They)) (VP (VBP are) (VP (VB...   \n",
       "4  (ROOT (S (NP (EX There)) (VP (VBP are) (NP (NN...   \n",
       "\n",
       "                       sent1_process                 sent2_process  \\\n",
       "0  a person hors jump broken airplan  a person train hors competit   \n",
       "1  a person hors jump broken airplan  a person diner order omelett   \n",
       "2  a person hors jump broken airplan         a person outdoor hors   \n",
       "3         children smile wave camera             thei smile parent   \n",
       "4         children smile wave camera        there children present   \n",
       "\n",
       "                                           sent1_pad  \\\n",
       "0  a person hors jump broken airplan ende ende en...   \n",
       "1  a person hors jump broken airplan ende ende en...   \n",
       "2  a person hors jump broken airplan ende ende en...   \n",
       "3  children smile wave camera ende ende ende ende...   \n",
       "4  children smile wave camera ende ende ende ende...   \n",
       "\n",
       "                                           sent2_pad  \\\n",
       "0  a person train hors competit ende ende ende en...   \n",
       "1  a person diner order omelett ende ende ende en...   \n",
       "2  a person outdoor hors ende ende ende ende ende...   \n",
       "3  thei smile parent ende ende ende ende ende end...   \n",
       "4  there children present ende ende ende ende end...   \n",
       "\n",
       "                                                text  \n",
       "0  a person hors jump broken airplan ende ende en...  \n",
       "1  a person hors jump broken airplan ende ende en...  \n",
       "2  a person hors jump broken airplan ende ende en...  \n",
       "3  children smile wave camera ende ende ende ende...  \n",
       "4  children smile wave camera ende ende ende ende...  "
      ]
     },
     "execution_count": 35,
     "metadata": {},
     "output_type": "execute_result"
    }
   ],
   "source": [
    "traindf.head()"
   ]
  },
  {
   "cell_type": "code",
   "execution_count": 36,
   "metadata": {},
   "outputs": [
    {
     "data": {
      "text/html": [
       "<div>\n",
       "<style scoped>\n",
       "    .dataframe tbody tr th:only-of-type {\n",
       "        vertical-align: middle;\n",
       "    }\n",
       "\n",
       "    .dataframe tbody tr th {\n",
       "        vertical-align: top;\n",
       "    }\n",
       "\n",
       "    .dataframe thead th {\n",
       "        text-align: right;\n",
       "    }\n",
       "</style>\n",
       "<table border=\"1\" class=\"dataframe\">\n",
       "  <thead>\n",
       "    <tr style=\"text-align: right;\">\n",
       "      <th></th>\n",
       "      <th>annotator_labels</th>\n",
       "      <th>captionID</th>\n",
       "      <th>gold_label</th>\n",
       "      <th>pairID</th>\n",
       "      <th>sentence1</th>\n",
       "      <th>sentence1_binary_parse</th>\n",
       "      <th>sentence1_parse</th>\n",
       "      <th>sentence2</th>\n",
       "      <th>sentence2_binary_parse</th>\n",
       "      <th>sentence2_parse</th>\n",
       "      <th>sent1_process</th>\n",
       "      <th>sent2_process</th>\n",
       "      <th>sent1_pad</th>\n",
       "      <th>sent2_pad</th>\n",
       "      <th>text</th>\n",
       "    </tr>\n",
       "  </thead>\n",
       "  <tbody>\n",
       "    <tr>\n",
       "      <th>0</th>\n",
       "      <td>[neutral, contradiction, contradiction, neutra...</td>\n",
       "      <td>2677109430.jpg#1</td>\n",
       "      <td>neutral</td>\n",
       "      <td>2677109430.jpg#1r1n</td>\n",
       "      <td>This church choir sings to the masses as they ...</td>\n",
       "      <td>( ( This ( church choir ) ) ( ( ( sings ( to (...</td>\n",
       "      <td>(ROOT (S (NP (DT This) (NN church) (NN choir))...</td>\n",
       "      <td>The church has cracks in the ceiling.</td>\n",
       "      <td>( ( The church ) ( ( has ( cracks ( in ( the c...</td>\n",
       "      <td>(ROOT (S (NP (DT The) (NN church)) (VP (VBZ ha...</td>\n",
       "      <td>thi church choir sing mass sing joyou song boo...</td>\n",
       "      <td>the church crack ceil</td>\n",
       "      <td>thi church choir sing mass sing joyou song boo...</td>\n",
       "      <td>the church crack ceil ende ende ende ende ende...</td>\n",
       "      <td>thi church choir sing mass sing joyou song boo...</td>\n",
       "    </tr>\n",
       "    <tr>\n",
       "      <th>1</th>\n",
       "      <td>[entailment, entailment, entailment, neutral, ...</td>\n",
       "      <td>2677109430.jpg#1</td>\n",
       "      <td>entailment</td>\n",
       "      <td>2677109430.jpg#1r1e</td>\n",
       "      <td>This church choir sings to the masses as they ...</td>\n",
       "      <td>( ( This ( church choir ) ) ( ( ( sings ( to (...</td>\n",
       "      <td>(ROOT (S (NP (DT This) (NN church) (NN choir))...</td>\n",
       "      <td>The church is filled with song.</td>\n",
       "      <td>( ( The church ) ( ( is ( filled ( with song )...</td>\n",
       "      <td>(ROOT (S (NP (DT The) (NN church)) (VP (VBZ is...</td>\n",
       "      <td>thi church choir sing mass sing joyou song boo...</td>\n",
       "      <td>the church fill song</td>\n",
       "      <td>thi church choir sing mass sing joyou song boo...</td>\n",
       "      <td>the church fill song ende ende ende ende ende ...</td>\n",
       "      <td>thi church choir sing mass sing joyou song boo...</td>\n",
       "    </tr>\n",
       "    <tr>\n",
       "      <th>2</th>\n",
       "      <td>[contradiction, contradiction, contradiction, ...</td>\n",
       "      <td>2677109430.jpg#1</td>\n",
       "      <td>contradiction</td>\n",
       "      <td>2677109430.jpg#1r1c</td>\n",
       "      <td>This church choir sings to the masses as they ...</td>\n",
       "      <td>( ( This ( church choir ) ) ( ( ( sings ( to (...</td>\n",
       "      <td>(ROOT (S (NP (DT This) (NN church) (NN choir))...</td>\n",
       "      <td>A choir singing at a baseball game.</td>\n",
       "      <td>( ( ( A choir ) ( singing ( at ( a ( baseball ...</td>\n",
       "      <td>(ROOT (NP (NP (DT A) (NN choir)) (VP (VBG sing...</td>\n",
       "      <td>thi church choir sing mass sing joyou song boo...</td>\n",
       "      <td>a choir sing basebal game</td>\n",
       "      <td>thi church choir sing mass sing joyou song boo...</td>\n",
       "      <td>a choir sing basebal game ende ende ende ende ...</td>\n",
       "      <td>thi church choir sing mass sing joyou song boo...</td>\n",
       "    </tr>\n",
       "    <tr>\n",
       "      <th>3</th>\n",
       "      <td>[neutral, neutral, neutral, neutral, neutral]</td>\n",
       "      <td>6160193920.jpg#4</td>\n",
       "      <td>neutral</td>\n",
       "      <td>6160193920.jpg#4r1n</td>\n",
       "      <td>A woman with a green headscarf, blue shirt and...</td>\n",
       "      <td>( ( ( A woman ) ( with ( ( ( ( ( a ( green hea...</td>\n",
       "      <td>(ROOT (NP (NP (DT A) (NN woman)) (PP (IN with)...</td>\n",
       "      <td>The woman is young.</td>\n",
       "      <td>( ( The woman ) ( ( is young ) . ) )</td>\n",
       "      <td>(ROOT (S (NP (DT The) (NN woman)) (VP (VBZ is)...</td>\n",
       "      <td>a woman green headscarf blue shirt big grin</td>\n",
       "      <td>the woman young</td>\n",
       "      <td>a woman green headscarf blue shirt big grin en...</td>\n",
       "      <td>the woman young ende ende ende ende ende ende ...</td>\n",
       "      <td>a woman green headscarf blue shirt big grin en...</td>\n",
       "    </tr>\n",
       "    <tr>\n",
       "      <th>4</th>\n",
       "      <td>[entailment, entailment, contradiction, entail...</td>\n",
       "      <td>6160193920.jpg#4</td>\n",
       "      <td>entailment</td>\n",
       "      <td>6160193920.jpg#4r1e</td>\n",
       "      <td>A woman with a green headscarf, blue shirt and...</td>\n",
       "      <td>( ( ( A woman ) ( with ( ( ( ( ( a ( green hea...</td>\n",
       "      <td>(ROOT (NP (NP (DT A) (NN woman)) (PP (IN with)...</td>\n",
       "      <td>The woman is very happy.</td>\n",
       "      <td>( ( The woman ) ( ( is ( very happy ) ) . ) )</td>\n",
       "      <td>(ROOT (S (NP (DT The) (NN woman)) (VP (VBZ is)...</td>\n",
       "      <td>a woman green headscarf blue shirt big grin</td>\n",
       "      <td>the woman happi</td>\n",
       "      <td>a woman green headscarf blue shirt big grin en...</td>\n",
       "      <td>the woman happi ende ende ende ende ende ende ...</td>\n",
       "      <td>a woman green headscarf blue shirt big grin en...</td>\n",
       "    </tr>\n",
       "  </tbody>\n",
       "</table>\n",
       "</div>"
      ],
      "text/plain": [
       "                                    annotator_labels         captionID  \\\n",
       "0  [neutral, contradiction, contradiction, neutra...  2677109430.jpg#1   \n",
       "1  [entailment, entailment, entailment, neutral, ...  2677109430.jpg#1   \n",
       "2  [contradiction, contradiction, contradiction, ...  2677109430.jpg#1   \n",
       "3      [neutral, neutral, neutral, neutral, neutral]  6160193920.jpg#4   \n",
       "4  [entailment, entailment, contradiction, entail...  6160193920.jpg#4   \n",
       "\n",
       "      gold_label               pairID  \\\n",
       "0        neutral  2677109430.jpg#1r1n   \n",
       "1     entailment  2677109430.jpg#1r1e   \n",
       "2  contradiction  2677109430.jpg#1r1c   \n",
       "3        neutral  6160193920.jpg#4r1n   \n",
       "4     entailment  6160193920.jpg#4r1e   \n",
       "\n",
       "                                           sentence1  \\\n",
       "0  This church choir sings to the masses as they ...   \n",
       "1  This church choir sings to the masses as they ...   \n",
       "2  This church choir sings to the masses as they ...   \n",
       "3  A woman with a green headscarf, blue shirt and...   \n",
       "4  A woman with a green headscarf, blue shirt and...   \n",
       "\n",
       "                              sentence1_binary_parse  \\\n",
       "0  ( ( This ( church choir ) ) ( ( ( sings ( to (...   \n",
       "1  ( ( This ( church choir ) ) ( ( ( sings ( to (...   \n",
       "2  ( ( This ( church choir ) ) ( ( ( sings ( to (...   \n",
       "3  ( ( ( A woman ) ( with ( ( ( ( ( a ( green hea...   \n",
       "4  ( ( ( A woman ) ( with ( ( ( ( ( a ( green hea...   \n",
       "\n",
       "                                     sentence1_parse  \\\n",
       "0  (ROOT (S (NP (DT This) (NN church) (NN choir))...   \n",
       "1  (ROOT (S (NP (DT This) (NN church) (NN choir))...   \n",
       "2  (ROOT (S (NP (DT This) (NN church) (NN choir))...   \n",
       "3  (ROOT (NP (NP (DT A) (NN woman)) (PP (IN with)...   \n",
       "4  (ROOT (NP (NP (DT A) (NN woman)) (PP (IN with)...   \n",
       "\n",
       "                               sentence2  \\\n",
       "0  The church has cracks in the ceiling.   \n",
       "1        The church is filled with song.   \n",
       "2    A choir singing at a baseball game.   \n",
       "3                    The woman is young.   \n",
       "4               The woman is very happy.   \n",
       "\n",
       "                              sentence2_binary_parse  \\\n",
       "0  ( ( The church ) ( ( has ( cracks ( in ( the c...   \n",
       "1  ( ( The church ) ( ( is ( filled ( with song )...   \n",
       "2  ( ( ( A choir ) ( singing ( at ( a ( baseball ...   \n",
       "3               ( ( The woman ) ( ( is young ) . ) )   \n",
       "4      ( ( The woman ) ( ( is ( very happy ) ) . ) )   \n",
       "\n",
       "                                     sentence2_parse  \\\n",
       "0  (ROOT (S (NP (DT The) (NN church)) (VP (VBZ ha...   \n",
       "1  (ROOT (S (NP (DT The) (NN church)) (VP (VBZ is...   \n",
       "2  (ROOT (NP (NP (DT A) (NN choir)) (VP (VBG sing...   \n",
       "3  (ROOT (S (NP (DT The) (NN woman)) (VP (VBZ is)...   \n",
       "4  (ROOT (S (NP (DT The) (NN woman)) (VP (VBZ is)...   \n",
       "\n",
       "                                       sent1_process  \\\n",
       "0  thi church choir sing mass sing joyou song boo...   \n",
       "1  thi church choir sing mass sing joyou song boo...   \n",
       "2  thi church choir sing mass sing joyou song boo...   \n",
       "3        a woman green headscarf blue shirt big grin   \n",
       "4        a woman green headscarf blue shirt big grin   \n",
       "\n",
       "               sent2_process  \\\n",
       "0      the church crack ceil   \n",
       "1       the church fill song   \n",
       "2  a choir sing basebal game   \n",
       "3            the woman young   \n",
       "4            the woman happi   \n",
       "\n",
       "                                           sent1_pad  \\\n",
       "0  thi church choir sing mass sing joyou song boo...   \n",
       "1  thi church choir sing mass sing joyou song boo...   \n",
       "2  thi church choir sing mass sing joyou song boo...   \n",
       "3  a woman green headscarf blue shirt big grin en...   \n",
       "4  a woman green headscarf blue shirt big grin en...   \n",
       "\n",
       "                                           sent2_pad  \\\n",
       "0  the church crack ceil ende ende ende ende ende...   \n",
       "1  the church fill song ende ende ende ende ende ...   \n",
       "2  a choir sing basebal game ende ende ende ende ...   \n",
       "3  the woman young ende ende ende ende ende ende ...   \n",
       "4  the woman happi ende ende ende ende ende ende ...   \n",
       "\n",
       "                                                text  \n",
       "0  thi church choir sing mass sing joyou song boo...  \n",
       "1  thi church choir sing mass sing joyou song boo...  \n",
       "2  thi church choir sing mass sing joyou song boo...  \n",
       "3  a woman green headscarf blue shirt big grin en...  \n",
       "4  a woman green headscarf blue shirt big grin en...  "
      ]
     },
     "execution_count": 36,
     "metadata": {},
     "output_type": "execute_result"
    }
   ],
   "source": [
    "testdf.head()"
   ]
  },
  {
   "cell_type": "code",
   "execution_count": 37,
   "metadata": {},
   "outputs": [
    {
     "name": "stdout",
     "output_type": "stream",
     "text": [
      "<class 'pandas.core.frame.DataFrame'>\n",
      "RangeIndex: 550152 entries, 0 to 550151\n",
      "Data columns (total 15 columns):\n",
      "annotator_labels          550152 non-null object\n",
      "captionID                 550152 non-null object\n",
      "gold_label                550152 non-null object\n",
      "pairID                    550152 non-null object\n",
      "sentence1                 550152 non-null object\n",
      "sentence1_binary_parse    550152 non-null object\n",
      "sentence1_parse           550152 non-null object\n",
      "sentence2                 550152 non-null object\n",
      "sentence2_binary_parse    550152 non-null object\n",
      "sentence2_parse           550152 non-null object\n",
      "sent1_process             550152 non-null object\n",
      "sent2_process             550152 non-null object\n",
      "sent1_pad                 550152 non-null object\n",
      "sent2_pad                 550152 non-null object\n",
      "text                      550152 non-null object\n",
      "dtypes: object(15)\n",
      "memory usage: 63.0+ MB\n"
     ]
    }
   ],
   "source": [
    "traindf.info()"
   ]
  },
  {
   "cell_type": "code",
   "execution_count": 38,
   "metadata": {},
   "outputs": [],
   "source": [
    "def maxLenText(df):\n",
    "    maxlen = 0\n",
    "    colname = 'text'\n",
    "    for index, row in df.iterrows():\n",
    "        s = row[colname]\n",
    "        if(len(s.split()) > maxlen):\n",
    "            maxlen = len(s.split())\n",
    "            print(maxlen, row[colname])"
   ]
  },
  {
   "cell_type": "code",
   "execution_count": 39,
   "metadata": {},
   "outputs": [
    {
     "name": "stdout",
     "output_type": "stream",
     "text": [
      "88 a person hors jump broken airplan ende ende ende ende ende ende ende ende ende ende ende ende ende ende ende ende ende ende ende ende ende ende ende ende ende ende ende ende ende ende ende ende ende ende ende ende ende ende a person train hors competit ende ende ende ende ende ende ende ende ende ende ende ende ende ende ende ende ende ende ende ende ende ende ende ende ende ende ende ende ende ende ende ende ende ende ende ende ende ende ende\n"
     ]
    }
   ],
   "source": [
    "maxLenText(traindf)"
   ]
  },
  {
   "cell_type": "code",
   "execution_count": 40,
   "metadata": {},
   "outputs": [
    {
     "name": "stdout",
     "output_type": "stream",
     "text": [
      "88 thi church choir sing mass sing joyou song book church ende ende ende ende ende ende ende ende ende ende ende ende ende ende ende ende ende ende ende ende ende ende ende ende ende ende ende ende ende ende ende ende ende ende the church crack ceil ende ende ende ende ende ende ende ende ende ende ende ende ende ende ende ende ende ende ende ende ende ende ende ende ende ende ende ende ende ende ende ende ende ende ende ende ende ende ende ende\n"
     ]
    }
   ],
   "source": [
    "maxLenText(testdf)"
   ]
  },
  {
   "cell_type": "code",
   "execution_count": 41,
   "metadata": {},
   "outputs": [],
   "source": [
    "def encode_label(val):\n",
    "    if(val.strip() == \"entailment\"):\n",
    "        return 0\n",
    "    elif (val.strip() == \"neutral\"):\n",
    "        return 1\n",
    "    elif (val.strip() == \"contradiction\"):\n",
    "        return 2\n",
    "    else:\n",
    "        return 3"
   ]
  },
  {
   "cell_type": "code",
   "execution_count": 42,
   "metadata": {},
   "outputs": [],
   "source": [
    "traindf['label'] = traindf.apply(lambda x: encode_label(x['gold_label']), axis=1)\n",
    "testdf['label'] = testdf.apply(lambda x: encode_label(x['gold_label']), axis=1)"
   ]
  },
  {
   "cell_type": "code",
   "execution_count": 43,
   "metadata": {},
   "outputs": [
    {
     "data": {
      "text/html": [
       "<div>\n",
       "<style scoped>\n",
       "    .dataframe tbody tr th:only-of-type {\n",
       "        vertical-align: middle;\n",
       "    }\n",
       "\n",
       "    .dataframe tbody tr th {\n",
       "        vertical-align: top;\n",
       "    }\n",
       "\n",
       "    .dataframe thead th {\n",
       "        text-align: right;\n",
       "    }\n",
       "</style>\n",
       "<table border=\"1\" class=\"dataframe\">\n",
       "  <thead>\n",
       "    <tr style=\"text-align: right;\">\n",
       "      <th></th>\n",
       "      <th>annotator_labels</th>\n",
       "      <th>captionID</th>\n",
       "      <th>gold_label</th>\n",
       "      <th>pairID</th>\n",
       "      <th>sentence1</th>\n",
       "      <th>sentence1_binary_parse</th>\n",
       "      <th>sentence1_parse</th>\n",
       "      <th>sentence2</th>\n",
       "      <th>sentence2_binary_parse</th>\n",
       "      <th>sentence2_parse</th>\n",
       "      <th>sent1_process</th>\n",
       "      <th>sent2_process</th>\n",
       "      <th>sent1_pad</th>\n",
       "      <th>sent2_pad</th>\n",
       "      <th>text</th>\n",
       "      <th>label</th>\n",
       "    </tr>\n",
       "  </thead>\n",
       "  <tbody>\n",
       "    <tr>\n",
       "      <th>0</th>\n",
       "      <td>[neutral]</td>\n",
       "      <td>3416050480.jpg#4</td>\n",
       "      <td>neutral</td>\n",
       "      <td>3416050480.jpg#4r1n</td>\n",
       "      <td>A person on a horse jumps over a broken down a...</td>\n",
       "      <td>( ( ( A person ) ( on ( a horse ) ) ) ( ( jump...</td>\n",
       "      <td>(ROOT (S (NP (NP (DT A) (NN person)) (PP (IN o...</td>\n",
       "      <td>A person is training his horse for a competition.</td>\n",
       "      <td>( ( A person ) ( ( is ( ( training ( his horse...</td>\n",
       "      <td>(ROOT (S (NP (DT A) (NN person)) (VP (VBZ is) ...</td>\n",
       "      <td>a person hors jump broken airplan</td>\n",
       "      <td>a person train hors competit</td>\n",
       "      <td>a person hors jump broken airplan ende ende en...</td>\n",
       "      <td>a person train hors competit ende ende ende en...</td>\n",
       "      <td>a person hors jump broken airplan ende ende en...</td>\n",
       "      <td>1</td>\n",
       "    </tr>\n",
       "    <tr>\n",
       "      <th>1</th>\n",
       "      <td>[contradiction]</td>\n",
       "      <td>3416050480.jpg#4</td>\n",
       "      <td>contradiction</td>\n",
       "      <td>3416050480.jpg#4r1c</td>\n",
       "      <td>A person on a horse jumps over a broken down a...</td>\n",
       "      <td>( ( ( A person ) ( on ( a horse ) ) ) ( ( jump...</td>\n",
       "      <td>(ROOT (S (NP (NP (DT A) (NN person)) (PP (IN o...</td>\n",
       "      <td>A person is at a diner, ordering an omelette.</td>\n",
       "      <td>( ( A person ) ( ( ( ( is ( at ( a diner ) ) )...</td>\n",
       "      <td>(ROOT (S (NP (DT A) (NN person)) (VP (VBZ is) ...</td>\n",
       "      <td>a person hors jump broken airplan</td>\n",
       "      <td>a person diner order omelett</td>\n",
       "      <td>a person hors jump broken airplan ende ende en...</td>\n",
       "      <td>a person diner order omelett ende ende ende en...</td>\n",
       "      <td>a person hors jump broken airplan ende ende en...</td>\n",
       "      <td>2</td>\n",
       "    </tr>\n",
       "    <tr>\n",
       "      <th>2</th>\n",
       "      <td>[entailment]</td>\n",
       "      <td>3416050480.jpg#4</td>\n",
       "      <td>entailment</td>\n",
       "      <td>3416050480.jpg#4r1e</td>\n",
       "      <td>A person on a horse jumps over a broken down a...</td>\n",
       "      <td>( ( ( A person ) ( on ( a horse ) ) ) ( ( jump...</td>\n",
       "      <td>(ROOT (S (NP (NP (DT A) (NN person)) (PP (IN o...</td>\n",
       "      <td>A person is outdoors, on a horse.</td>\n",
       "      <td>( ( A person ) ( ( ( ( is outdoors ) , ) ( on ...</td>\n",
       "      <td>(ROOT (S (NP (DT A) (NN person)) (VP (VBZ is) ...</td>\n",
       "      <td>a person hors jump broken airplan</td>\n",
       "      <td>a person outdoor hors</td>\n",
       "      <td>a person hors jump broken airplan ende ende en...</td>\n",
       "      <td>a person outdoor hors ende ende ende ende ende...</td>\n",
       "      <td>a person hors jump broken airplan ende ende en...</td>\n",
       "      <td>0</td>\n",
       "    </tr>\n",
       "    <tr>\n",
       "      <th>3</th>\n",
       "      <td>[neutral]</td>\n",
       "      <td>2267923837.jpg#2</td>\n",
       "      <td>neutral</td>\n",
       "      <td>2267923837.jpg#2r1n</td>\n",
       "      <td>Children smiling and waving at camera</td>\n",
       "      <td>( Children ( ( ( smiling and ) waving ) ( at c...</td>\n",
       "      <td>(ROOT (NP (S (NP (NNP Children)) (VP (VBG smil...</td>\n",
       "      <td>They are smiling at their parents</td>\n",
       "      <td>( They ( are ( smiling ( at ( their parents ) ...</td>\n",
       "      <td>(ROOT (S (NP (PRP They)) (VP (VBP are) (VP (VB...</td>\n",
       "      <td>children smile wave camera</td>\n",
       "      <td>thei smile parent</td>\n",
       "      <td>children smile wave camera ende ende ende ende...</td>\n",
       "      <td>thei smile parent ende ende ende ende ende end...</td>\n",
       "      <td>children smile wave camera ende ende ende ende...</td>\n",
       "      <td>1</td>\n",
       "    </tr>\n",
       "    <tr>\n",
       "      <th>4</th>\n",
       "      <td>[entailment]</td>\n",
       "      <td>2267923837.jpg#2</td>\n",
       "      <td>entailment</td>\n",
       "      <td>2267923837.jpg#2r1e</td>\n",
       "      <td>Children smiling and waving at camera</td>\n",
       "      <td>( Children ( ( ( smiling and ) waving ) ( at c...</td>\n",
       "      <td>(ROOT (NP (S (NP (NNP Children)) (VP (VBG smil...</td>\n",
       "      <td>There are children present</td>\n",
       "      <td>( There ( ( are children ) present ) )</td>\n",
       "      <td>(ROOT (S (NP (EX There)) (VP (VBP are) (NP (NN...</td>\n",
       "      <td>children smile wave camera</td>\n",
       "      <td>there children present</td>\n",
       "      <td>children smile wave camera ende ende ende ende...</td>\n",
       "      <td>there children present ende ende ende ende end...</td>\n",
       "      <td>children smile wave camera ende ende ende ende...</td>\n",
       "      <td>0</td>\n",
       "    </tr>\n",
       "  </tbody>\n",
       "</table>\n",
       "</div>"
      ],
      "text/plain": [
       "  annotator_labels         captionID     gold_label               pairID  \\\n",
       "0        [neutral]  3416050480.jpg#4        neutral  3416050480.jpg#4r1n   \n",
       "1  [contradiction]  3416050480.jpg#4  contradiction  3416050480.jpg#4r1c   \n",
       "2     [entailment]  3416050480.jpg#4     entailment  3416050480.jpg#4r1e   \n",
       "3        [neutral]  2267923837.jpg#2        neutral  2267923837.jpg#2r1n   \n",
       "4     [entailment]  2267923837.jpg#2     entailment  2267923837.jpg#2r1e   \n",
       "\n",
       "                                           sentence1  \\\n",
       "0  A person on a horse jumps over a broken down a...   \n",
       "1  A person on a horse jumps over a broken down a...   \n",
       "2  A person on a horse jumps over a broken down a...   \n",
       "3              Children smiling and waving at camera   \n",
       "4              Children smiling and waving at camera   \n",
       "\n",
       "                              sentence1_binary_parse  \\\n",
       "0  ( ( ( A person ) ( on ( a horse ) ) ) ( ( jump...   \n",
       "1  ( ( ( A person ) ( on ( a horse ) ) ) ( ( jump...   \n",
       "2  ( ( ( A person ) ( on ( a horse ) ) ) ( ( jump...   \n",
       "3  ( Children ( ( ( smiling and ) waving ) ( at c...   \n",
       "4  ( Children ( ( ( smiling and ) waving ) ( at c...   \n",
       "\n",
       "                                     sentence1_parse  \\\n",
       "0  (ROOT (S (NP (NP (DT A) (NN person)) (PP (IN o...   \n",
       "1  (ROOT (S (NP (NP (DT A) (NN person)) (PP (IN o...   \n",
       "2  (ROOT (S (NP (NP (DT A) (NN person)) (PP (IN o...   \n",
       "3  (ROOT (NP (S (NP (NNP Children)) (VP (VBG smil...   \n",
       "4  (ROOT (NP (S (NP (NNP Children)) (VP (VBG smil...   \n",
       "\n",
       "                                           sentence2  \\\n",
       "0  A person is training his horse for a competition.   \n",
       "1      A person is at a diner, ordering an omelette.   \n",
       "2                  A person is outdoors, on a horse.   \n",
       "3                  They are smiling at their parents   \n",
       "4                         There are children present   \n",
       "\n",
       "                              sentence2_binary_parse  \\\n",
       "0  ( ( A person ) ( ( is ( ( training ( his horse...   \n",
       "1  ( ( A person ) ( ( ( ( is ( at ( a diner ) ) )...   \n",
       "2  ( ( A person ) ( ( ( ( is outdoors ) , ) ( on ...   \n",
       "3  ( They ( are ( smiling ( at ( their parents ) ...   \n",
       "4             ( There ( ( are children ) present ) )   \n",
       "\n",
       "                                     sentence2_parse  \\\n",
       "0  (ROOT (S (NP (DT A) (NN person)) (VP (VBZ is) ...   \n",
       "1  (ROOT (S (NP (DT A) (NN person)) (VP (VBZ is) ...   \n",
       "2  (ROOT (S (NP (DT A) (NN person)) (VP (VBZ is) ...   \n",
       "3  (ROOT (S (NP (PRP They)) (VP (VBP are) (VP (VB...   \n",
       "4  (ROOT (S (NP (EX There)) (VP (VBP are) (NP (NN...   \n",
       "\n",
       "                       sent1_process                 sent2_process  \\\n",
       "0  a person hors jump broken airplan  a person train hors competit   \n",
       "1  a person hors jump broken airplan  a person diner order omelett   \n",
       "2  a person hors jump broken airplan         a person outdoor hors   \n",
       "3         children smile wave camera             thei smile parent   \n",
       "4         children smile wave camera        there children present   \n",
       "\n",
       "                                           sent1_pad  \\\n",
       "0  a person hors jump broken airplan ende ende en...   \n",
       "1  a person hors jump broken airplan ende ende en...   \n",
       "2  a person hors jump broken airplan ende ende en...   \n",
       "3  children smile wave camera ende ende ende ende...   \n",
       "4  children smile wave camera ende ende ende ende...   \n",
       "\n",
       "                                           sent2_pad  \\\n",
       "0  a person train hors competit ende ende ende en...   \n",
       "1  a person diner order omelett ende ende ende en...   \n",
       "2  a person outdoor hors ende ende ende ende ende...   \n",
       "3  thei smile parent ende ende ende ende ende end...   \n",
       "4  there children present ende ende ende ende end...   \n",
       "\n",
       "                                                text  label  \n",
       "0  a person hors jump broken airplan ende ende en...      1  \n",
       "1  a person hors jump broken airplan ende ende en...      2  \n",
       "2  a person hors jump broken airplan ende ende en...      0  \n",
       "3  children smile wave camera ende ende ende ende...      1  \n",
       "4  children smile wave camera ende ende ende ende...      0  "
      ]
     },
     "execution_count": 43,
     "metadata": {},
     "output_type": "execute_result"
    }
   ],
   "source": [
    "traindf.head()"
   ]
  },
  {
   "cell_type": "code",
   "execution_count": 44,
   "metadata": {},
   "outputs": [
    {
     "data": {
      "text/html": [
       "<div>\n",
       "<style scoped>\n",
       "    .dataframe tbody tr th:only-of-type {\n",
       "        vertical-align: middle;\n",
       "    }\n",
       "\n",
       "    .dataframe tbody tr th {\n",
       "        vertical-align: top;\n",
       "    }\n",
       "\n",
       "    .dataframe thead th {\n",
       "        text-align: right;\n",
       "    }\n",
       "</style>\n",
       "<table border=\"1\" class=\"dataframe\">\n",
       "  <thead>\n",
       "    <tr style=\"text-align: right;\">\n",
       "      <th></th>\n",
       "      <th>annotator_labels</th>\n",
       "      <th>captionID</th>\n",
       "      <th>gold_label</th>\n",
       "      <th>pairID</th>\n",
       "      <th>sentence1</th>\n",
       "      <th>sentence1_binary_parse</th>\n",
       "      <th>sentence1_parse</th>\n",
       "      <th>sentence2</th>\n",
       "      <th>sentence2_binary_parse</th>\n",
       "      <th>sentence2_parse</th>\n",
       "      <th>sent1_process</th>\n",
       "      <th>sent2_process</th>\n",
       "      <th>sent1_pad</th>\n",
       "      <th>sent2_pad</th>\n",
       "      <th>text</th>\n",
       "      <th>label</th>\n",
       "    </tr>\n",
       "  </thead>\n",
       "  <tbody>\n",
       "    <tr>\n",
       "      <th>0</th>\n",
       "      <td>[neutral, contradiction, contradiction, neutra...</td>\n",
       "      <td>2677109430.jpg#1</td>\n",
       "      <td>neutral</td>\n",
       "      <td>2677109430.jpg#1r1n</td>\n",
       "      <td>This church choir sings to the masses as they ...</td>\n",
       "      <td>( ( This ( church choir ) ) ( ( ( sings ( to (...</td>\n",
       "      <td>(ROOT (S (NP (DT This) (NN church) (NN choir))...</td>\n",
       "      <td>The church has cracks in the ceiling.</td>\n",
       "      <td>( ( The church ) ( ( has ( cracks ( in ( the c...</td>\n",
       "      <td>(ROOT (S (NP (DT The) (NN church)) (VP (VBZ ha...</td>\n",
       "      <td>thi church choir sing mass sing joyou song boo...</td>\n",
       "      <td>the church crack ceil</td>\n",
       "      <td>thi church choir sing mass sing joyou song boo...</td>\n",
       "      <td>the church crack ceil ende ende ende ende ende...</td>\n",
       "      <td>thi church choir sing mass sing joyou song boo...</td>\n",
       "      <td>1</td>\n",
       "    </tr>\n",
       "    <tr>\n",
       "      <th>1</th>\n",
       "      <td>[entailment, entailment, entailment, neutral, ...</td>\n",
       "      <td>2677109430.jpg#1</td>\n",
       "      <td>entailment</td>\n",
       "      <td>2677109430.jpg#1r1e</td>\n",
       "      <td>This church choir sings to the masses as they ...</td>\n",
       "      <td>( ( This ( church choir ) ) ( ( ( sings ( to (...</td>\n",
       "      <td>(ROOT (S (NP (DT This) (NN church) (NN choir))...</td>\n",
       "      <td>The church is filled with song.</td>\n",
       "      <td>( ( The church ) ( ( is ( filled ( with song )...</td>\n",
       "      <td>(ROOT (S (NP (DT The) (NN church)) (VP (VBZ is...</td>\n",
       "      <td>thi church choir sing mass sing joyou song boo...</td>\n",
       "      <td>the church fill song</td>\n",
       "      <td>thi church choir sing mass sing joyou song boo...</td>\n",
       "      <td>the church fill song ende ende ende ende ende ...</td>\n",
       "      <td>thi church choir sing mass sing joyou song boo...</td>\n",
       "      <td>0</td>\n",
       "    </tr>\n",
       "    <tr>\n",
       "      <th>2</th>\n",
       "      <td>[contradiction, contradiction, contradiction, ...</td>\n",
       "      <td>2677109430.jpg#1</td>\n",
       "      <td>contradiction</td>\n",
       "      <td>2677109430.jpg#1r1c</td>\n",
       "      <td>This church choir sings to the masses as they ...</td>\n",
       "      <td>( ( This ( church choir ) ) ( ( ( sings ( to (...</td>\n",
       "      <td>(ROOT (S (NP (DT This) (NN church) (NN choir))...</td>\n",
       "      <td>A choir singing at a baseball game.</td>\n",
       "      <td>( ( ( A choir ) ( singing ( at ( a ( baseball ...</td>\n",
       "      <td>(ROOT (NP (NP (DT A) (NN choir)) (VP (VBG sing...</td>\n",
       "      <td>thi church choir sing mass sing joyou song boo...</td>\n",
       "      <td>a choir sing basebal game</td>\n",
       "      <td>thi church choir sing mass sing joyou song boo...</td>\n",
       "      <td>a choir sing basebal game ende ende ende ende ...</td>\n",
       "      <td>thi church choir sing mass sing joyou song boo...</td>\n",
       "      <td>2</td>\n",
       "    </tr>\n",
       "    <tr>\n",
       "      <th>3</th>\n",
       "      <td>[neutral, neutral, neutral, neutral, neutral]</td>\n",
       "      <td>6160193920.jpg#4</td>\n",
       "      <td>neutral</td>\n",
       "      <td>6160193920.jpg#4r1n</td>\n",
       "      <td>A woman with a green headscarf, blue shirt and...</td>\n",
       "      <td>( ( ( A woman ) ( with ( ( ( ( ( a ( green hea...</td>\n",
       "      <td>(ROOT (NP (NP (DT A) (NN woman)) (PP (IN with)...</td>\n",
       "      <td>The woman is young.</td>\n",
       "      <td>( ( The woman ) ( ( is young ) . ) )</td>\n",
       "      <td>(ROOT (S (NP (DT The) (NN woman)) (VP (VBZ is)...</td>\n",
       "      <td>a woman green headscarf blue shirt big grin</td>\n",
       "      <td>the woman young</td>\n",
       "      <td>a woman green headscarf blue shirt big grin en...</td>\n",
       "      <td>the woman young ende ende ende ende ende ende ...</td>\n",
       "      <td>a woman green headscarf blue shirt big grin en...</td>\n",
       "      <td>1</td>\n",
       "    </tr>\n",
       "    <tr>\n",
       "      <th>4</th>\n",
       "      <td>[entailment, entailment, contradiction, entail...</td>\n",
       "      <td>6160193920.jpg#4</td>\n",
       "      <td>entailment</td>\n",
       "      <td>6160193920.jpg#4r1e</td>\n",
       "      <td>A woman with a green headscarf, blue shirt and...</td>\n",
       "      <td>( ( ( A woman ) ( with ( ( ( ( ( a ( green hea...</td>\n",
       "      <td>(ROOT (NP (NP (DT A) (NN woman)) (PP (IN with)...</td>\n",
       "      <td>The woman is very happy.</td>\n",
       "      <td>( ( The woman ) ( ( is ( very happy ) ) . ) )</td>\n",
       "      <td>(ROOT (S (NP (DT The) (NN woman)) (VP (VBZ is)...</td>\n",
       "      <td>a woman green headscarf blue shirt big grin</td>\n",
       "      <td>the woman happi</td>\n",
       "      <td>a woman green headscarf blue shirt big grin en...</td>\n",
       "      <td>the woman happi ende ende ende ende ende ende ...</td>\n",
       "      <td>a woman green headscarf blue shirt big grin en...</td>\n",
       "      <td>0</td>\n",
       "    </tr>\n",
       "  </tbody>\n",
       "</table>\n",
       "</div>"
      ],
      "text/plain": [
       "                                    annotator_labels         captionID  \\\n",
       "0  [neutral, contradiction, contradiction, neutra...  2677109430.jpg#1   \n",
       "1  [entailment, entailment, entailment, neutral, ...  2677109430.jpg#1   \n",
       "2  [contradiction, contradiction, contradiction, ...  2677109430.jpg#1   \n",
       "3      [neutral, neutral, neutral, neutral, neutral]  6160193920.jpg#4   \n",
       "4  [entailment, entailment, contradiction, entail...  6160193920.jpg#4   \n",
       "\n",
       "      gold_label               pairID  \\\n",
       "0        neutral  2677109430.jpg#1r1n   \n",
       "1     entailment  2677109430.jpg#1r1e   \n",
       "2  contradiction  2677109430.jpg#1r1c   \n",
       "3        neutral  6160193920.jpg#4r1n   \n",
       "4     entailment  6160193920.jpg#4r1e   \n",
       "\n",
       "                                           sentence1  \\\n",
       "0  This church choir sings to the masses as they ...   \n",
       "1  This church choir sings to the masses as they ...   \n",
       "2  This church choir sings to the masses as they ...   \n",
       "3  A woman with a green headscarf, blue shirt and...   \n",
       "4  A woman with a green headscarf, blue shirt and...   \n",
       "\n",
       "                              sentence1_binary_parse  \\\n",
       "0  ( ( This ( church choir ) ) ( ( ( sings ( to (...   \n",
       "1  ( ( This ( church choir ) ) ( ( ( sings ( to (...   \n",
       "2  ( ( This ( church choir ) ) ( ( ( sings ( to (...   \n",
       "3  ( ( ( A woman ) ( with ( ( ( ( ( a ( green hea...   \n",
       "4  ( ( ( A woman ) ( with ( ( ( ( ( a ( green hea...   \n",
       "\n",
       "                                     sentence1_parse  \\\n",
       "0  (ROOT (S (NP (DT This) (NN church) (NN choir))...   \n",
       "1  (ROOT (S (NP (DT This) (NN church) (NN choir))...   \n",
       "2  (ROOT (S (NP (DT This) (NN church) (NN choir))...   \n",
       "3  (ROOT (NP (NP (DT A) (NN woman)) (PP (IN with)...   \n",
       "4  (ROOT (NP (NP (DT A) (NN woman)) (PP (IN with)...   \n",
       "\n",
       "                               sentence2  \\\n",
       "0  The church has cracks in the ceiling.   \n",
       "1        The church is filled with song.   \n",
       "2    A choir singing at a baseball game.   \n",
       "3                    The woman is young.   \n",
       "4               The woman is very happy.   \n",
       "\n",
       "                              sentence2_binary_parse  \\\n",
       "0  ( ( The church ) ( ( has ( cracks ( in ( the c...   \n",
       "1  ( ( The church ) ( ( is ( filled ( with song )...   \n",
       "2  ( ( ( A choir ) ( singing ( at ( a ( baseball ...   \n",
       "3               ( ( The woman ) ( ( is young ) . ) )   \n",
       "4      ( ( The woman ) ( ( is ( very happy ) ) . ) )   \n",
       "\n",
       "                                     sentence2_parse  \\\n",
       "0  (ROOT (S (NP (DT The) (NN church)) (VP (VBZ ha...   \n",
       "1  (ROOT (S (NP (DT The) (NN church)) (VP (VBZ is...   \n",
       "2  (ROOT (NP (NP (DT A) (NN choir)) (VP (VBG sing...   \n",
       "3  (ROOT (S (NP (DT The) (NN woman)) (VP (VBZ is)...   \n",
       "4  (ROOT (S (NP (DT The) (NN woman)) (VP (VBZ is)...   \n",
       "\n",
       "                                       sent1_process  \\\n",
       "0  thi church choir sing mass sing joyou song boo...   \n",
       "1  thi church choir sing mass sing joyou song boo...   \n",
       "2  thi church choir sing mass sing joyou song boo...   \n",
       "3        a woman green headscarf blue shirt big grin   \n",
       "4        a woman green headscarf blue shirt big grin   \n",
       "\n",
       "               sent2_process  \\\n",
       "0      the church crack ceil   \n",
       "1       the church fill song   \n",
       "2  a choir sing basebal game   \n",
       "3            the woman young   \n",
       "4            the woman happi   \n",
       "\n",
       "                                           sent1_pad  \\\n",
       "0  thi church choir sing mass sing joyou song boo...   \n",
       "1  thi church choir sing mass sing joyou song boo...   \n",
       "2  thi church choir sing mass sing joyou song boo...   \n",
       "3  a woman green headscarf blue shirt big grin en...   \n",
       "4  a woman green headscarf blue shirt big grin en...   \n",
       "\n",
       "                                           sent2_pad  \\\n",
       "0  the church crack ceil ende ende ende ende ende...   \n",
       "1  the church fill song ende ende ende ende ende ...   \n",
       "2  a choir sing basebal game ende ende ende ende ...   \n",
       "3  the woman young ende ende ende ende ende ende ...   \n",
       "4  the woman happi ende ende ende ende ende ende ...   \n",
       "\n",
       "                                                text  label  \n",
       "0  thi church choir sing mass sing joyou song boo...      1  \n",
       "1  thi church choir sing mass sing joyou song boo...      0  \n",
       "2  thi church choir sing mass sing joyou song boo...      2  \n",
       "3  a woman green headscarf blue shirt big grin en...      1  \n",
       "4  a woman green headscarf blue shirt big grin en...      0  "
      ]
     },
     "execution_count": 44,
     "metadata": {},
     "output_type": "execute_result"
    }
   ],
   "source": [
    "testdf.head()"
   ]
  },
  {
   "cell_type": "code",
   "execution_count": 285,
   "metadata": {},
   "outputs": [],
   "source": [
    "train_dataset = traindf[['text','label']].copy()\n",
    "test_dataset = testdf[['text','label']].copy()"
   ]
  },
  {
   "cell_type": "code",
   "execution_count": null,
   "metadata": {},
   "outputs": [],
   "source": []
  },
  {
   "cell_type": "code",
   "execution_count": 286,
   "metadata": {},
   "outputs": [
    {
     "name": "stdout",
     "output_type": "stream",
     "text": [
      "<class 'pandas.core.frame.DataFrame'>\n",
      "RangeIndex: 550152 entries, 0 to 550151\n",
      "Data columns (total 2 columns):\n",
      "text     550152 non-null object\n",
      "label    550152 non-null int64\n",
      "dtypes: int64(1), object(1)\n",
      "memory usage: 8.4+ MB\n"
     ]
    }
   ],
   "source": [
    "train_dataset.info()"
   ]
  },
  {
   "cell_type": "code",
   "execution_count": 287,
   "metadata": {},
   "outputs": [
    {
     "data": {
      "text/html": [
       "<div>\n",
       "<style scoped>\n",
       "    .dataframe tbody tr th:only-of-type {\n",
       "        vertical-align: middle;\n",
       "    }\n",
       "\n",
       "    .dataframe tbody tr th {\n",
       "        vertical-align: top;\n",
       "    }\n",
       "\n",
       "    .dataframe thead th {\n",
       "        text-align: right;\n",
       "    }\n",
       "</style>\n",
       "<table border=\"1\" class=\"dataframe\">\n",
       "  <thead>\n",
       "    <tr style=\"text-align: right;\">\n",
       "      <th></th>\n",
       "      <th>text</th>\n",
       "      <th>label</th>\n",
       "    </tr>\n",
       "  </thead>\n",
       "  <tbody>\n",
       "    <tr>\n",
       "      <th>0</th>\n",
       "      <td>a person hors jump broken airplan ende ende en...</td>\n",
       "      <td>1</td>\n",
       "    </tr>\n",
       "    <tr>\n",
       "      <th>1</th>\n",
       "      <td>a person hors jump broken airplan ende ende en...</td>\n",
       "      <td>2</td>\n",
       "    </tr>\n",
       "    <tr>\n",
       "      <th>2</th>\n",
       "      <td>a person hors jump broken airplan ende ende en...</td>\n",
       "      <td>0</td>\n",
       "    </tr>\n",
       "    <tr>\n",
       "      <th>3</th>\n",
       "      <td>children smile wave camera ende ende ende ende...</td>\n",
       "      <td>1</td>\n",
       "    </tr>\n",
       "    <tr>\n",
       "      <th>4</th>\n",
       "      <td>children smile wave camera ende ende ende ende...</td>\n",
       "      <td>0</td>\n",
       "    </tr>\n",
       "  </tbody>\n",
       "</table>\n",
       "</div>"
      ],
      "text/plain": [
       "                                                text  label\n",
       "0  a person hors jump broken airplan ende ende en...      1\n",
       "1  a person hors jump broken airplan ende ende en...      2\n",
       "2  a person hors jump broken airplan ende ende en...      0\n",
       "3  children smile wave camera ende ende ende ende...      1\n",
       "4  children smile wave camera ende ende ende ende...      0"
      ]
     },
     "execution_count": 287,
     "metadata": {},
     "output_type": "execute_result"
    }
   ],
   "source": [
    "train_dataset.head()"
   ]
  },
  {
   "cell_type": "code",
   "execution_count": 288,
   "metadata": {},
   "outputs": [
    {
     "data": {
      "text/html": [
       "<div>\n",
       "<style scoped>\n",
       "    .dataframe tbody tr th:only-of-type {\n",
       "        vertical-align: middle;\n",
       "    }\n",
       "\n",
       "    .dataframe tbody tr th {\n",
       "        vertical-align: top;\n",
       "    }\n",
       "\n",
       "    .dataframe thead th {\n",
       "        text-align: right;\n",
       "    }\n",
       "</style>\n",
       "<table border=\"1\" class=\"dataframe\">\n",
       "  <thead>\n",
       "    <tr style=\"text-align: right;\">\n",
       "      <th></th>\n",
       "      <th>text</th>\n",
       "      <th>label</th>\n",
       "    </tr>\n",
       "  </thead>\n",
       "  <tbody>\n",
       "    <tr>\n",
       "      <th>0</th>\n",
       "      <td>thi church choir sing mass sing joyou song boo...</td>\n",
       "      <td>1</td>\n",
       "    </tr>\n",
       "    <tr>\n",
       "      <th>1</th>\n",
       "      <td>thi church choir sing mass sing joyou song boo...</td>\n",
       "      <td>0</td>\n",
       "    </tr>\n",
       "    <tr>\n",
       "      <th>2</th>\n",
       "      <td>thi church choir sing mass sing joyou song boo...</td>\n",
       "      <td>2</td>\n",
       "    </tr>\n",
       "    <tr>\n",
       "      <th>3</th>\n",
       "      <td>a woman green headscarf blue shirt big grin en...</td>\n",
       "      <td>1</td>\n",
       "    </tr>\n",
       "    <tr>\n",
       "      <th>4</th>\n",
       "      <td>a woman green headscarf blue shirt big grin en...</td>\n",
       "      <td>0</td>\n",
       "    </tr>\n",
       "  </tbody>\n",
       "</table>\n",
       "</div>"
      ],
      "text/plain": [
       "                                                text  label\n",
       "0  thi church choir sing mass sing joyou song boo...      1\n",
       "1  thi church choir sing mass sing joyou song boo...      0\n",
       "2  thi church choir sing mass sing joyou song boo...      2\n",
       "3  a woman green headscarf blue shirt big grin en...      1\n",
       "4  a woman green headscarf blue shirt big grin en...      0"
      ]
     },
     "execution_count": 288,
     "metadata": {},
     "output_type": "execute_result"
    }
   ],
   "source": [
    "test_dataset.head()"
   ]
  },
  {
   "cell_type": "code",
   "execution_count": null,
   "metadata": {},
   "outputs": [],
   "source": [
    "#convert text to numbers"
   ]
  },
  {
   "cell_type": "code",
   "execution_count": 69,
   "metadata": {},
   "outputs": [],
   "source": [
    "worddict = {}\n",
    "for index, row in train_dataset.iterrows():\n",
    "    words = str.split(row['text'])\n",
    "    for word in words:\n",
    "        if word in worddict:\n",
    "            value = worddict.get(word)\n",
    "            worddict.update({word: value+1})\n",
    "        else:\n",
    "            worddict.update({word: 1})\n",
    "\n",
    "for index, row in test_dataset.iterrows():\n",
    "    words = str.split(row['text'])\n",
    "    for word in words:\n",
    "        if word in worddict:\n",
    "            value = worddict.get(word)\n",
    "            worddict.update({word: value+1})\n",
    "        else:\n",
    "            worddict.update({word: 1})             "
   ]
  },
  {
   "cell_type": "code",
   "execution_count": null,
   "metadata": {},
   "outputs": [],
   "source": []
  },
  {
   "cell_type": "code",
   "execution_count": 70,
   "metadata": {},
   "outputs": [
    {
     "data": {
      "text/plain": [
       "21506"
      ]
     },
     "execution_count": 70,
     "metadata": {},
     "output_type": "execute_result"
    }
   ],
   "source": [
    "len(worddict)"
   ]
  },
  {
   "cell_type": "code",
   "execution_count": 71,
   "metadata": {},
   "outputs": [],
   "source": [
    "worddict.update({'ende': 0})"
   ]
  },
  {
   "cell_type": "code",
   "execution_count": 72,
   "metadata": {},
   "outputs": [],
   "source": [
    "sorted_dict = {k: v for k, v in sorted(worddict.items(), key=lambda item: item[1])}"
   ]
  },
  {
   "cell_type": "code",
   "execution_count": 73,
   "metadata": {},
   "outputs": [
    {
     "data": {
      "text/plain": [
       "21506"
      ]
     },
     "execution_count": 73,
     "metadata": {},
     "output_type": "execute_result"
    }
   ],
   "source": [
    "len(sorted_dict)"
   ]
  },
  {
   "cell_type": "code",
   "execution_count": 75,
   "metadata": {},
   "outputs": [],
   "source": [
    "wordlist = list(sorted_dict.keys())"
   ]
  },
  {
   "cell_type": "code",
   "execution_count": 76,
   "metadata": {},
   "outputs": [],
   "source": [
    "word_index_dict = {}\n",
    "for i in range(len(wordlist)):\n",
    "    word_index_dict[wordlist[i]] = i"
   ]
  },
  {
   "cell_type": "code",
   "execution_count": 282,
   "metadata": {},
   "outputs": [
    {
     "data": {
      "text/plain": [
       "21506"
      ]
     },
     "execution_count": 282,
     "metadata": {},
     "output_type": "execute_result"
    }
   ],
   "source": [
    "len(word_index_dict)"
   ]
  },
  {
   "cell_type": "code",
   "execution_count": 80,
   "metadata": {},
   "outputs": [
    {
     "data": {
      "text/plain": [
       "2"
      ]
     },
     "execution_count": 80,
     "metadata": {},
     "output_type": "execute_result"
    }
   ],
   "source": [
    "word_index_dict[\"afternooon\"]"
   ]
  },
  {
   "cell_type": "code",
   "execution_count": 190,
   "metadata": {},
   "outputs": [],
   "source": [
    "x = pd.Series([])"
   ]
  },
  {
   "cell_type": "code",
   "execution_count": 191,
   "metadata": {},
   "outputs": [
    {
     "data": {
      "text/plain": [
       "0    5\n",
       "dtype: int64"
      ]
     },
     "execution_count": 191,
     "metadata": {},
     "output_type": "execute_result"
    }
   ],
   "source": [
    "x.append(pd.Series([4]))\n",
    "x.append(pd.Series([5]))"
   ]
  },
  {
   "cell_type": "code",
   "execution_count": 175,
   "metadata": {},
   "outputs": [
    {
     "data": {
      "text/plain": [
       "0    4\n",
       "1    5\n",
       "dtype: int64"
      ]
     },
     "execution_count": 175,
     "metadata": {},
     "output_type": "execute_result"
    }
   ],
   "source": [
    "x"
   ]
  },
  {
   "cell_type": "code",
   "execution_count": null,
   "metadata": {},
   "outputs": [],
   "source": [
    "#convert string in text field to numbers"
   ]
  },
  {
   "cell_type": "code",
   "execution_count": 231,
   "metadata": {},
   "outputs": [],
   "source": [
    "def numarr(row, word_index_dict):\n",
    "    words = str.split(row['text'])\n",
    "    k = 0\n",
    "    row_length = 1\n",
    "    my_array = np.empty((len(words), row_length),dtype=np.uint32)\n",
    "    for word in words:\n",
    "        num = word_index_dict.get(word)\n",
    "        my_array[k] = np.array([num], dtype=np.uint32)\n",
    "        k = k+1\n",
    "        print(my_array)\n",
    "#     nparr2 = np.reshape(arr,[k,1])\n",
    "    return my_array.astype(np.uint32)"
   ]
  },
  {
   "cell_type": "code",
   "execution_count": 296,
   "metadata": {},
   "outputs": [],
   "source": [
    "def getnumpydata(df):\n",
    "    row_length = 1\n",
    "    main_array = np.empty((df.shape[0], 88, 1),dtype=np.uint32)\n",
    "    j = 0\n",
    "    for index, row in df.iterrows():\n",
    "        words = str.split(row['text'])\n",
    "        k = 0\n",
    "        row_length = 1\n",
    "        my_array = np.empty((len(words),row_length),dtype=np.uint32)\n",
    "        for word in words:\n",
    "            num = word_index_dict.get(word)\n",
    "            #print(word, num)\n",
    "            my_array[k] = np.array([num], dtype=np.uint32)\n",
    "            k = k+1\n",
    "        #print(\"Inner array : \", my_array.shape)     \n",
    "        main_array[j] =  np.array(my_array, dtype=np.uint32)\n",
    "        j = j+1\n",
    "#     nparr2 = np.reshape(arr,[k,1])\n",
    "    return main_array"
   ]
  },
  {
   "cell_type": "code",
   "execution_count": 297,
   "metadata": {},
   "outputs": [],
   "source": [
    "sampledf = train_dataset.head(2)\n",
    "sample_numpy = getnumpydata(sampledf)\n"
   ]
  },
  {
   "cell_type": "code",
   "execution_count": 299,
   "metadata": {},
   "outputs": [
    {
     "data": {
      "text/plain": [
       "(2, 88, 1)"
      ]
     },
     "execution_count": 299,
     "metadata": {},
     "output_type": "execute_result"
    }
   ],
   "source": [
    "sample_numpy.shape"
   ]
  },
  {
   "cell_type": "code",
   "execution_count": 300,
   "metadata": {},
   "outputs": [],
   "source": [
    "y_sample = sampledf['label'].to_numpy()"
   ]
  },
  {
   "cell_type": "code",
   "execution_count": 301,
   "metadata": {},
   "outputs": [],
   "source": [
    "sampletensor = tf.convert_to_tensor(sample_numpy)"
   ]
  },
  {
   "cell_type": "code",
   "execution_count": 302,
   "metadata": {},
   "outputs": [],
   "source": [
    "sample_dataset = tf.data.Dataset.from_tensor_slices((sample_numpy, y_sample))"
   ]
  },
  {
   "cell_type": "code",
   "execution_count": null,
   "metadata": {},
   "outputs": [],
   "source": []
  },
  {
   "cell_type": "code",
   "execution_count": null,
   "metadata": {},
   "outputs": [],
   "source": []
  },
  {
   "cell_type": "code",
   "execution_count": 303,
   "metadata": {},
   "outputs": [],
   "source": [
    "X_train = getnumpydata(train_dataset)\n",
    "y_train = train_dataset['label'].to_numpy()"
   ]
  },
  {
   "cell_type": "code",
   "execution_count": 304,
   "metadata": {},
   "outputs": [],
   "source": [
    "X_test = getnumpydata(test_dataset)\n",
    "y_test = test_dataset['label'].to_numpy()"
   ]
  },
  {
   "cell_type": "code",
   "execution_count": 215,
   "metadata": {},
   "outputs": [],
   "source": []
  },
  {
   "cell_type": "code",
   "execution_count": 133,
   "metadata": {},
   "outputs": [],
   "source": [
    "import tensorflow as tf"
   ]
  },
  {
   "cell_type": "code",
   "execution_count": 305,
   "metadata": {},
   "outputs": [],
   "source": [
    "train_tensor = tf.data.Dataset.from_tensor_slices((X_train, y_train))\n",
    "test_tensor = tf.data.Dataset.from_tensor_slices((X_test, y_test))"
   ]
  },
  {
   "cell_type": "code",
   "execution_count": 306,
   "metadata": {},
   "outputs": [
    {
     "data": {
      "text/plain": [
       "21506"
      ]
     },
     "execution_count": 306,
     "metadata": {},
     "output_type": "execute_result"
    }
   ],
   "source": [
    "vocab_size"
   ]
  },
  {
   "cell_type": "code",
   "execution_count": 307,
   "metadata": {},
   "outputs": [],
   "source": [
    "vocab_size = len(wordlist)\n",
    "model = tf.keras.Sequential([\n",
    "    tf.keras.layers.Embedding(vocab_size, 64),\n",
    "    tf.keras.layers.Bidirectional(tf.keras.layers.LSTM(64)),\n",
    "    tf.keras.layers.Dense(64, activation='relu'),\n",
    "    tf.keras.layers.Dense(1)\n",
    "])"
   ]
  },
  {
   "cell_type": "code",
   "execution_count": 308,
   "metadata": {},
   "outputs": [],
   "source": [
    "model.compile(loss=tf.keras.losses.BinaryCrossentropy(from_logits=True),\n",
    "              optimizer=tf.keras.optimizers.Adam(1e-4),\n",
    "              metrics=['accuracy'])"
   ]
  },
  {
   "cell_type": "code",
   "execution_count": null,
   "metadata": {},
   "outputs": [
    {
     "name": "stdout",
     "output_type": "stream",
     "text": [
      "Epoch 1/10\n",
      "17193/17193 [==============================] - 1162s 68ms/step - loss: -0.0266 - accuracy: 0.3323 - val_loss: -0.5508 - val_accuracy: 0.3219\n",
      "Epoch 2/10\n",
      " 2912/17193 [====>.........................] - ETA: 18:47 - loss: -0.0788 - accuracy: 0.3332"
     ]
    }
   ],
   "source": [
    "history = model.fit(X_train,y_train, epochs=10,\n",
    "                    validation_data=(X_test,y_test), \n",
    "                    validation_steps=3)"
   ]
  },
  {
   "cell_type": "code",
   "execution_count": null,
   "metadata": {},
   "outputs": [],
   "source": [
    "plot_graphs(history, 'accuracy')\n",
    "\n"
   ]
  },
  {
   "cell_type": "code",
   "execution_count": null,
   "metadata": {},
   "outputs": [],
   "source": [
    "plot_graphs(history, 'loss')"
   ]
  },
  {
   "cell_type": "code",
   "execution_count": null,
   "metadata": {},
   "outputs": [],
   "source": [
    "test_loss, test_acc = model.evaluate(test_tensor)\n",
    "\n",
    "print('Test Loss: {}'.format(test_loss))\n",
    "print('Test Accuracy: {}'.format(test_acc))"
   ]
  },
  {
   "cell_type": "code",
   "execution_count": null,
   "metadata": {},
   "outputs": [],
   "source": []
  },
  {
   "cell_type": "code",
   "execution_count": null,
   "metadata": {},
   "outputs": [],
   "source": [
    "#Stack two or more LSTM"
   ]
  },
  {
   "cell_type": "code",
   "execution_count": null,
   "metadata": {},
   "outputs": [],
   "source": [
    "model2 = tf.keras.Sequential([\n",
    "    tf.keras.layers.Embedding(encoder.vocab_size, 64),\n",
    "    tf.keras.layers.Bidirectional(tf.keras.layers.LSTM(64,  return_sequences=True)),\n",
    "    tf.keras.layers.Bidirectional(tf.keras.layers.LSTM(32)),\n",
    "    tf.keras.layers.Dense(64, activation='relu'),\n",
    "    tf.keras.layers.Dropout(0.5),\n",
    "    tf.keras.layers.Dense(1)\n",
    "])"
   ]
  },
  {
   "cell_type": "code",
   "execution_count": null,
   "metadata": {},
   "outputs": [],
   "source": [
    "model2.compile(loss=tf.keras.losses.BinaryCrossentropy(from_logits=True),\n",
    "              optimizer=tf.keras.optimizers.Adam(1e-4),\n",
    "              metrics=['accuracy'])"
   ]
  },
  {
   "cell_type": "code",
   "execution_count": null,
   "metadata": {},
   "outputs": [],
   "source": [
    "history2 = model2.fit(train_tensor, epochs=10,\n",
    "                    validation_data=test_tensor,\n",
    "                    validation_steps=30)"
   ]
  },
  {
   "cell_type": "code",
   "execution_count": null,
   "metadata": {},
   "outputs": [],
   "source": [
    "test_loss, test_acc = model2.evaluate(test_tensor)\n",
    "\n",
    "print('Test Loss: {}'.format(test_loss))\n",
    "print('Test Accuracy: {}'.format(test_acc))"
   ]
  },
  {
   "cell_type": "code",
   "execution_count": null,
   "metadata": {},
   "outputs": [],
   "source": [
    "plot_graphs(history2, 'accuracy')"
   ]
  },
  {
   "cell_type": "code",
   "execution_count": null,
   "metadata": {},
   "outputs": [],
   "source": [
    "plot_graphs(history2, 'loss')"
   ]
  },
  {
   "cell_type": "code",
   "execution_count": null,
   "metadata": {},
   "outputs": [],
   "source": []
  }
 ],
 "metadata": {
  "kernelspec": {
   "display_name": "Python 3",
   "language": "python",
   "name": "python3"
  },
  "language_info": {
   "codemirror_mode": {
    "name": "ipython",
    "version": 3
   },
   "file_extension": ".py",
   "mimetype": "text/x-python",
   "name": "python",
   "nbconvert_exporter": "python",
   "pygments_lexer": "ipython3",
   "version": "3.7.6"
  }
 },
 "nbformat": 4,
 "nbformat_minor": 2
}
